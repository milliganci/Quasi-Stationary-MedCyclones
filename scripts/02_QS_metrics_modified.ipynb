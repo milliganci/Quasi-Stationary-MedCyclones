{
 "cells": [
  {
   "cell_type": "markdown",
   "metadata": {},
   "source": [
    "# Calculate Quasi-Stationary Metrics from the filtered MedCyclone composite table\n",
    "Apply different stationarity definitions to the dataset and categorise the tracks based on the definitions."
   ]
  },
  {
   "cell_type": "code",
   "execution_count": null,
   "metadata": {},
   "outputs": [],
   "source": [
    "# load python packages\n",
    "import pandas as pd\n",
    "import numpy as np\n",
    "from scipy.io import loadmat\n",
    "\n",
    "import QS_functions as QSfunc"
   ]
  },
  {
   "cell_type": "code",
   "execution_count": null,
   "metadata": {},
   "outputs": [
    {
     "name": "stdout",
     "output_type": "stream",
     "text": [
      "   id    lon     lat  year  month  day  time      hPa\n",
      "0   4  0.960  40.700  1979      1    8    18  1016.93\n",
      "1   4  1.080  40.761  1979      1    8    19  1016.93\n",
      "2   4  1.300  40.746  1979      1    8    20  1016.64\n",
      "3   4  1.624  40.699  1979      1    8    21  1016.35\n",
      "4   4  1.986  40.693  1979      1    8    22  1015.86\n"
     ]
    }
   ],
   "source": [
    "# Load df_Medcrossers\n",
    "df_Medcrossers = pd.read_csv('../output/TRACKS_CL5_onlyMedcrossers.csv', header=0)  # or '../output/other_TRACKS/TRACKS_CL#_onlyMedcrossers.csv' for other CL numbers\n",
    "# Contains only tracks crossing the Mediterranean Basin\n",
    "print(df_Medcrossers.head())\n"
   ]
  },
  {
   "cell_type": "markdown",
   "metadata": {},
   "source": [
    "## Full-Track Stationarity\n",
    "The following two metrics focus on distances covered in the lifetime of the cyclone."
   ]
  },
  {
   "cell_type": "markdown",
   "metadata": {},
   "source": [
    "### Median Velocity \"FT_MED_VEL\"\n",
    "- based on median propagation speed of a cyclone over its whole lifetime"
   ]
  },
  {
   "cell_type": "code",
   "execution_count": 14,
   "metadata": {},
   "outputs": [],
   "source": [
    "# Calculate median propagation speed (per hour) for each cyclone\n",
    "# --------------------------------------------------------------\n",
    "# For each unique cyclone ID in the dataframe:\n",
    "#   - select its track points (lat/lon)\n",
    "#   - compute the distance between consecutive points (1-hour time steps)\n",
    "#   - store the median speed of each cyclone\n",
    "#\n",
    "# Cyclone categorisation (slow, average, fast) is based on quantiles\n",
    "# and is handled using a helper function to assign quantile ranks and categories.\n",
    "# Resulting values are added to the main dataframe.\n",
    "# --------------------------------------------------------------\n",
    "\n",
    "list_med_vel = []\n",
    "\n",
    "for cyclone_id in df_Medcrossers['id'].unique():\n",
    "    cyclone = df_Medcrossers[df_Medcrossers['id'] == cyclone_id].reset_index(drop=True)\n",
    "    if len(cyclone) < 2:\n",
    "        continue\n",
    "    dists = [\n",
    "        QSfunc.haversine(cyclone.loc[t, 'lon'], cyclone.loc[t, 'lat'],\n",
    "                     cyclone.loc[t+1, 'lon'], cyclone.loc[t+1, 'lat'])\n",
    "        for t in range(len(cyclone) - 1)\n",
    "    ]\n",
    "    list_med_vel.append(np.median(dists))\n",
    "\n",
    "median_vel = np.array(list_med_vel)\n",
    "\n",
    "# Create DataFrame with quantiles and categories\n",
    "df_med_vel = QSfunc.assign_quantiles_and_categories_FT(median_vel, df_Medcrossers, 'FT_MED_VEL')\n",
    "\n",
    "# Merge with original dataset\n",
    "df_QS_Medcrossers = df_Medcrossers.copy()\n",
    "df_QS_Medcrossers = df_QS_Medcrossers.merge(df_med_vel, on='id', how='left')"
   ]
  },
  {
   "cell_type": "markdown",
   "metadata": {},
   "source": [
    "### Total Distance \"FT_TOT_DIST\" ('Path Stationarity' as in Aregger, 2021)\n",
    "- based on maximum distance that a cyclone can travel over its whole lifetime\n",
    "- calculated by summing up the distances between each observational timestep"
   ]
  },
  {
   "cell_type": "code",
   "execution_count": 15,
   "metadata": {},
   "outputs": [],
   "source": [
    "# Calculate total distance for each cyclone\n",
    "# --------------------------------------------------------------\n",
    "# For each unique cyclone ID in the dataframe:\n",
    "#   - select its track points (lat/lon)\n",
    "#   - compute the distance between consecutive points (1-hour time steps)\n",
    "#   - store the median speed of each cyclone\n",
    "#\n",
    "# Cyclone categorisation (slow, average, fast) is based on quantiles\n",
    "# and is handled using a helper function to assign quantile ranks and categories.\n",
    "# Resulting values are added to the main dataframe.\n",
    "# --------------------------------------------------------------\n",
    "\n",
    "list_tot_dist = []\n",
    "\n",
    "for cyclone_id in df_Medcrossers['id'].unique():\n",
    "    cyclone = df_Medcrossers[df_Medcrossers['id'] == cyclone_id].reset_index(drop=True)\n",
    "    if len(cyclone) < 2:\n",
    "        continue\n",
    "    dists = [\n",
    "        QSfunc.haversine(cyclone.loc[t, 'lon'], cyclone.loc[t, 'lat'],\n",
    "                     cyclone.loc[t+1, 'lon'], cyclone.loc[t+1, 'lat'])\n",
    "        for t in range(len(cyclone) - 1)\n",
    "    ]\n",
    "    list_tot_dist.append(np.sum(dists))\n",
    "\n",
    "tot_dist = np.array(list_tot_dist)\n",
    "\n",
    "# Create DataFrame with quantiles and categories\n",
    "df_tot_dist = QSfunc.assign_quantiles_and_categories_FT(tot_dist, df_Medcrossers, 'FT_TOT_DIST')\n",
    "\n",
    "# Merge with original data\n",
    "df_QS_Medcrossers = df_QS_Medcrossers.merge(df_tot_dist, on='id', how='left')"
   ]
  },
  {
   "cell_type": "markdown",
   "metadata": {},
   "source": [
    "## Along Track Stationarity"
   ]
  },
  {
   "cell_type": "markdown",
   "metadata": {},
   "source": [
    "The following three metrics focus on distances covered in a 12-hr timescale.\n",
    "\n",
    "Users may change this window by altering the following variable:"
   ]
  },
  {
   "cell_type": "code",
   "execution_count": 5,
   "metadata": {},
   "outputs": [],
   "source": [
    "window = 12"
   ]
  },
  {
   "cell_type": "markdown",
   "metadata": {},
   "source": [
    "### 12-hour Distance \"AT_12h_DIST\"\n",
    "- total path distance travelled by a cyclone over 12 consecutive hourly steps"
   ]
  },
  {
   "cell_type": "code",
   "execution_count": 6,
   "metadata": {},
   "outputs": [],
   "source": [
    "def calculate_dist12h_df(df):\n",
    "    list_dist_12hrs = []\n",
    "    for id_val, group in df.groupby('id'):\n",
    "        lons = group['lon'].values\n",
    "        lats = group['lat'].values\n",
    "        for i in range(len(group) - window):\n",
    "            dist_sum = sum([QSfunc.haversine(lons[j], lats[j], lons[j+1], lats[j+1]) for j in range(i, i+window)])\n",
    "            list_dist_12hrs.append([id_val, lons[i], lats[i], dist_sum])\n",
    "    return pd.DataFrame(list_dist_12hrs, columns=['id', 'lon', 'lat', 'dist_sum'])"
   ]
  },
  {
   "cell_type": "code",
   "execution_count": 7,
   "metadata": {},
   "outputs": [
    {
     "ename": "TypeError",
     "evalue": "rankdata() got an unexpected keyword argument 'nan_policy'",
     "output_type": "error",
     "traceback": [
      "\u001b[0;31m---------------------------------------------------------------------------\u001b[0m",
      "\u001b[0;31mTypeError\u001b[0m                                 Traceback (most recent call last)",
      "Cell \u001b[0;32mIn[7], line 2\u001b[0m\n\u001b[1;32m      1\u001b[0m df_12hr \u001b[38;5;241m=\u001b[39m calculate_dist12h_df(df_Medcrossers)\n\u001b[0;32m----> 2\u001b[0m new_cols_12hr \u001b[38;5;241m=\u001b[39m \u001b[43mQSfunc\u001b[49m\u001b[38;5;241;43m.\u001b[39;49m\u001b[43mcategorise_distances_AT\u001b[49m\u001b[43m(\u001b[49m\u001b[43mdf_12hr\u001b[49m\u001b[43m,\u001b[49m\u001b[43m \u001b[49m\u001b[43mdf_Medcrossers\u001b[49m\u001b[43m,\u001b[49m\u001b[43m \u001b[49m\u001b[43mwindow\u001b[49m\u001b[43m,\u001b[49m\u001b[43m \u001b[49m\u001b[38;5;124;43m'\u001b[39;49m\u001b[38;5;124;43mAT_12h_DIST\u001b[39;49m\u001b[38;5;124;43m'\u001b[39;49m\u001b[43m)\u001b[49m\n",
      "File \u001b[0;32m~/Desktop/Bern/marina/github_code/scripts/QS_functions.py:180\u001b[0m, in \u001b[0;36mcategorise_distances_AT\u001b[0;34m(df_dist, df_original, tstep_window, prefix)\u001b[0m\n\u001b[1;32m    177\u001b[0m full_values_concat \u001b[38;5;241m=\u001b[39m np\u001b[38;5;241m.\u001b[39mconcatenate(full_values)\n\u001b[1;32m    179\u001b[0m \u001b[38;5;66;03m# calculate quantile ranks\u001b[39;00m\n\u001b[0;32m--> 180\u001b[0m ranks \u001b[38;5;241m=\u001b[39m \u001b[43mrankdata\u001b[49m\u001b[43m(\u001b[49m\u001b[43mfull_values_concat\u001b[49m\u001b[43m,\u001b[49m\u001b[43m \u001b[49m\u001b[43mmethod\u001b[49m\u001b[38;5;241;43m=\u001b[39;49m\u001b[38;5;124;43m'\u001b[39;49m\u001b[38;5;124;43mordinal\u001b[39;49m\u001b[38;5;124;43m'\u001b[39;49m\u001b[43m,\u001b[49m\u001b[43m \u001b[49m\u001b[43mnan_policy\u001b[49m\u001b[38;5;241;43m=\u001b[39;49m\u001b[38;5;124;43m'\u001b[39;49m\u001b[38;5;124;43momit\u001b[39;49m\u001b[38;5;124;43m'\u001b[39;49m\u001b[43m)\u001b[49m\n\u001b[1;32m    181\u001b[0m quantiles \u001b[38;5;241m=\u001b[39m np\u001b[38;5;241m.\u001b[39mwhere(np\u001b[38;5;241m.\u001b[39misnan(full_values_concat), np\u001b[38;5;241m.\u001b[39mnan, (ranks \u001b[38;5;241m-\u001b[39m \u001b[38;5;241m1\u001b[39m) \u001b[38;5;241m/\u001b[39m (\u001b[38;5;28mlen\u001b[39m(full_values_concat[\u001b[38;5;241m~\u001b[39mnp\u001b[38;5;241m.\u001b[39misnan(full_values_concat)]) \u001b[38;5;241m-\u001b[39m \u001b[38;5;241m1\u001b[39m))\n\u001b[1;32m    182\u001b[0m quantiles \u001b[38;5;241m=\u001b[39m np\u001b[38;5;241m.\u001b[39mround(quantiles, \u001b[38;5;241m3\u001b[39m)\n",
      "\u001b[0;31mTypeError\u001b[0m: rankdata() got an unexpected keyword argument 'nan_policy'"
     ]
    }
   ],
   "source": [
    "df_12hr = calculate_dist12h_df(df_Medcrossers)\n",
    "new_cols_12hr = QSfunc.categorise_distances_AT(df_12hr, df_Medcrossers, window, 'AT_12h_DIST')"
   ]
  },
  {
   "cell_type": "code",
   "execution_count": null,
   "metadata": {},
   "outputs": [
    {
     "ename": "NameError",
     "evalue": "name 'new_cols_12hr' is not defined",
     "output_type": "error",
     "traceback": [
      "\u001b[0;31m---------------------------------------------------------------------------\u001b[0m",
      "\u001b[0;31mNameError\u001b[0m                                 Traceback (most recent call last)",
      "Cell \u001b[0;32mIn[8], line 1\u001b[0m\n\u001b[0;32m----> 1\u001b[0m df_Medcrossers \u001b[38;5;241m=\u001b[39m pd\u001b[38;5;241m.\u001b[39mconcat([df_Medcrossers, \u001b[43mnew_cols_12hr\u001b[49m], axis\u001b[38;5;241m=\u001b[39m\u001b[38;5;241m1\u001b[39m)\n",
      "\u001b[0;31mNameError\u001b[0m: name 'new_cols_12hr' is not defined"
     ]
    }
   ],
   "source": [
    "df_QS_Medcrossers = pd.concat([df_QS_Medcrossers, new_cols_12hr], axis=1)"
   ]
  },
  {
   "cell_type": "markdown",
   "metadata": {},
   "source": [
    "### Radial Distance \"AT_RAD_DIST\"\n",
    "- computes the sum of straight-line distances from a reference point to each of the next 12 hourly positions (like spokes of a wheel)"
   ]
  },
  {
   "cell_type": "code",
   "execution_count": 9,
   "metadata": {},
   "outputs": [],
   "source": [
    "def calculate_radial_df(df):\n",
    "    list_dist_rad = []\n",
    "    for id_val, group in df.groupby('id'):\n",
    "        lons = group['lon'].values\n",
    "        lats = group['lat'].values\n",
    "        for i in range(len(group) - window):\n",
    "            dist_sum = sum([QSfunc.haversine(lons[i], lats[i], lons[j], lats[j]) for j in range(i+1, i+window+1)])    ######################\n",
    "            list_dist_rad.append([id_val, lons[i], lats[i], dist_sum])\n",
    "    return pd.DataFrame(list_dist_rad, columns=['id', 'lon', 'lat', 'dist_sum'])"
   ]
  },
  {
   "cell_type": "code",
   "execution_count": 10,
   "metadata": {},
   "outputs": [
    {
     "ename": "TypeError",
     "evalue": "rankdata() got an unexpected keyword argument 'nan_policy'",
     "output_type": "error",
     "traceback": [
      "\u001b[0;31m---------------------------------------------------------------------------\u001b[0m",
      "\u001b[0;31mTypeError\u001b[0m                                 Traceback (most recent call last)",
      "Cell \u001b[0;32mIn[10], line 2\u001b[0m\n\u001b[1;32m      1\u001b[0m df_radial \u001b[38;5;241m=\u001b[39m calculate_radial_df(df_Medcrossers)\n\u001b[0;32m----> 2\u001b[0m new_cols_rad \u001b[38;5;241m=\u001b[39m \u001b[43mQSfunc\u001b[49m\u001b[38;5;241;43m.\u001b[39;49m\u001b[43mcategorise_distances_AT\u001b[49m\u001b[43m(\u001b[49m\u001b[43mdf_radial\u001b[49m\u001b[43m,\u001b[49m\u001b[43m \u001b[49m\u001b[43mdf_Medcrossers\u001b[49m\u001b[43m,\u001b[49m\u001b[43m \u001b[49m\u001b[43mwindow\u001b[49m\u001b[43m,\u001b[49m\u001b[43m \u001b[49m\u001b[38;5;124;43m'\u001b[39;49m\u001b[38;5;124;43mAT_RAD_DIST\u001b[39;49m\u001b[38;5;124;43m'\u001b[39;49m\u001b[43m)\u001b[49m\n",
      "File \u001b[0;32m~/Desktop/Bern/marina/github_code/scripts/QS_functions.py:180\u001b[0m, in \u001b[0;36mcategorise_distances_AT\u001b[0;34m(df_dist, df_original, tstep_window, prefix)\u001b[0m\n\u001b[1;32m    177\u001b[0m full_values_concat \u001b[38;5;241m=\u001b[39m np\u001b[38;5;241m.\u001b[39mconcatenate(full_values)\n\u001b[1;32m    179\u001b[0m \u001b[38;5;66;03m# calculate quantile ranks\u001b[39;00m\n\u001b[0;32m--> 180\u001b[0m ranks \u001b[38;5;241m=\u001b[39m \u001b[43mrankdata\u001b[49m\u001b[43m(\u001b[49m\u001b[43mfull_values_concat\u001b[49m\u001b[43m,\u001b[49m\u001b[43m \u001b[49m\u001b[43mmethod\u001b[49m\u001b[38;5;241;43m=\u001b[39;49m\u001b[38;5;124;43m'\u001b[39;49m\u001b[38;5;124;43mordinal\u001b[39;49m\u001b[38;5;124;43m'\u001b[39;49m\u001b[43m,\u001b[49m\u001b[43m \u001b[49m\u001b[43mnan_policy\u001b[49m\u001b[38;5;241;43m=\u001b[39;49m\u001b[38;5;124;43m'\u001b[39;49m\u001b[38;5;124;43momit\u001b[39;49m\u001b[38;5;124;43m'\u001b[39;49m\u001b[43m)\u001b[49m\n\u001b[1;32m    181\u001b[0m quantiles \u001b[38;5;241m=\u001b[39m np\u001b[38;5;241m.\u001b[39mwhere(np\u001b[38;5;241m.\u001b[39misnan(full_values_concat), np\u001b[38;5;241m.\u001b[39mnan, (ranks \u001b[38;5;241m-\u001b[39m \u001b[38;5;241m1\u001b[39m) \u001b[38;5;241m/\u001b[39m (\u001b[38;5;28mlen\u001b[39m(full_values_concat[\u001b[38;5;241m~\u001b[39mnp\u001b[38;5;241m.\u001b[39misnan(full_values_concat)]) \u001b[38;5;241m-\u001b[39m \u001b[38;5;241m1\u001b[39m))\n\u001b[1;32m    182\u001b[0m quantiles \u001b[38;5;241m=\u001b[39m np\u001b[38;5;241m.\u001b[39mround(quantiles, \u001b[38;5;241m3\u001b[39m)\n",
      "\u001b[0;31mTypeError\u001b[0m: rankdata() got an unexpected keyword argument 'nan_policy'"
     ]
    }
   ],
   "source": [
    "df_radial = calculate_radial_df(df_Medcrossers)\n",
    "new_cols_rad = QSfunc.categorise_distances_AT(df_radial, df_Medcrossers, window, 'AT_RAD_DIST')"
   ]
  },
  {
   "cell_type": "code",
   "execution_count": null,
   "metadata": {},
   "outputs": [],
   "source": [
    "df_QS_Medcrossers = pd.concat([df_QS_Medcrossers, new_cols_rad], axis=1)"
   ]
  },
  {
   "cell_type": "markdown",
   "metadata": {},
   "source": [
    "### Circle Distance \"AT_CIRCLE_DIST\"\n",
    "- finds the maximum distance from a reference point to any of the next 12 positions, defining the radius of the smallest circle that contains them"
   ]
  },
  {
   "cell_type": "code",
   "execution_count": null,
   "metadata": {},
   "outputs": [],
   "source": [
    "def calculate_circle_df(df):\n",
    "    list_circle = []\n",
    "    for id_val, group in df.groupby('id'):\n",
    "        if len(group) <= window:\n",
    "            continue\n",
    "        for i in range(len(group) - window):\n",
    "            window_ = group.iloc[i:i + window+1]\n",
    "            center_lon, center_lat = window_.iloc[0][['lon', 'lat']]\n",
    "            lons = window_['lon'].values[1:]\n",
    "            lats = window_['lat'].values[1:]\n",
    "            distances = QSfunc.haversine(center_lon, center_lat, lons, lats)\n",
    "            max_distance = distances.max()\n",
    "            list_circle.append([id_val, center_lon, center_lat, max_distance])\n",
    "    return pd.DataFrame(list_circle, columns=['id', 'lon', 'lat', 'dist_sum'])"
   ]
  },
  {
   "cell_type": "code",
   "execution_count": null,
   "metadata": {},
   "outputs": [],
   "source": [
    "df_circle = calculate_circle_df(df_Medcrossers)\n",
    "new_cols_circle = QSfunc.categorise_distances_AT(df_circle, df_Medcrossers, window, 'AT_CIRCLE_DIST')"
   ]
  },
  {
   "cell_type": "code",
   "execution_count": null,
   "metadata": {},
   "outputs": [],
   "source": [
    "df_QS_Medcrossers = pd.concat([df_QS_Medcrossers, new_cols_circle], axis=1)"
   ]
  },
  {
   "cell_type": "markdown",
   "metadata": {},
   "source": [
    "## Save final QS Table as csv file"
   ]
  },
  {
   "cell_type": "code",
   "execution_count": null,
   "metadata": {},
   "outputs": [
    {
     "name": "stdout",
     "output_type": "stream",
     "text": [
      "   id    lon     lat  year  month  day  time      hPa  FT_MED_VEL_v  \\\n",
      "0   4  0.960  40.700  1979      1    8    18  1016.93        31.008   \n",
      "1   4  1.080  40.761  1979      1    8    19  1016.93        31.008   \n",
      "2   4  1.300  40.746  1979      1    8    20  1016.64        31.008   \n",
      "3   4  1.624  40.699  1979      1    8    21  1016.35        31.008   \n",
      "4   4  1.986  40.693  1979      1    8    22  1015.86        31.008   \n",
      "\n",
      "   FT_MED_VEL_q  FT_MED_VEL_c  FT_TOT_DIST_v  FT_TOT_DIST_q  FT_TOT_DIST_c  \n",
      "0         0.831           0.0       1355.115          0.391            0.0  \n",
      "1         0.831           0.0       1355.115          0.391            0.0  \n",
      "2         0.831           0.0       1355.115          0.391            0.0  \n",
      "3         0.831           0.0       1355.115          0.391            0.0  \n",
      "4         0.831           0.0       1355.115          0.391            0.0  \n"
     ]
    }
   ],
   "source": [
    "# Final DataFrame with all calculated features\n",
    "print(df_QS_Medcrossers.head())\n",
    "df_QS_Medcrossers.to_csv('../output/TRACKS_CL5_QS_Medcrossers.csv', index=False, header=True)  # or '../output/other_TRACKS/TRACKS_CL#_QS_Medcrossers.csv' for other CL numbers"
   ]
  }
 ],
 "metadata": {
  "kernelspec": {
   "display_name": "myenv",
   "language": "python",
   "name": "python3"
  },
  "language_info": {
   "codemirror_mode": {
    "name": "ipython",
    "version": 3
   },
   "file_extension": ".py",
   "mimetype": "text/x-python",
   "name": "python",
   "nbconvert_exporter": "python",
   "pygments_lexer": "ipython3",
   "version": "3.10.6"
  }
 },
 "nbformat": 4,
 "nbformat_minor": 4
}
