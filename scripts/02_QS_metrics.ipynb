{
 "cells": [
  {
   "cell_type": "markdown",
   "metadata": {},
   "source": [
    "# Calculate Quasi-Stationary Metrics from the filtered MedCyclone composite table\n",
    "Apply different stationarity definitions to the dataset and categorise the tracks based on the definitions."
   ]
  },
  {
   "cell_type": "code",
   "execution_count": 1,
   "metadata": {},
   "outputs": [],
   "source": [
    "# load python packages\n",
    "import pandas as pd\n",
    "import numpy as np\n",
    "from scipy.io import loadmat\n",
    "\n",
    "import QS_functions as QSfunc"
   ]
  },
  {
   "cell_type": "code",
   "execution_count": 2,
   "metadata": {},
   "outputs": [
    {
     "name": "stdout",
     "output_type": "stream",
     "text": [
      "   id    lon     lat  year  month  day  time      hPa\n",
      "0   4  0.960  40.700  1979      1    8    18  1016.93\n",
      "1   4  1.080  40.761  1979      1    8    19  1016.93\n",
      "2   4  1.300  40.746  1979      1    8    20  1016.64\n",
      "3   4  1.624  40.699  1979      1    8    21  1016.35\n",
      "4   4  1.986  40.693  1979      1    8    22  1015.86\n"
     ]
    }
   ],
   "source": [
    "# Load df_Medcrossers\n",
    "df_Medcrossers = pd.read_csv('../output/TRACKS_CL5_onlyMedcrossers.csv', header=0)  # or '../output/other_TRACKS/TRACKS_CL#_onlyMedcrossers.csv' for other CL numbers\n",
    "# Contains only tracks crossing the Mediterranean Basin\n",
    "print(df_Medcrossers.head())\n"
   ]
  },
  {
   "cell_type": "markdown",
   "metadata": {},
   "source": [
    "## Full-Track Stationarity\n",
    "The following two metrics focus on distances covered in the lifetime of the cyclone."
   ]
  },
  {
   "cell_type": "markdown",
   "metadata": {},
   "source": [
    "### Median Velocity \"FT_MED_VEL\"\n",
    "- based on median propagation speed of a cyclone over its whole lifetime"
   ]
  },
  {
   "cell_type": "code",
   "execution_count": 3,
   "metadata": {},
   "outputs": [],
   "source": [
    "# Calculate median propagation speed (per hour) for each cyclone\n",
    "# --------------------------------------------------------------\n",
    "# For each unique cyclone ID in the dataframe:\n",
    "#   - select its track points (lat/lon)\n",
    "#   - compute the distance between consecutive points (1-hour time steps)\n",
    "#   - store the median speed of each cyclone\n",
    "#\n",
    "# Cyclone categorisation (slow, average, fast) is based on quantiles\n",
    "# and is handled using a helper function to assign quantile ranks and categories.\n",
    "# Resulting values are added to the main dataframe.\n",
    "# --------------------------------------------------------------\n",
    "\n",
    "list_med_vel = []\n",
    "\n",
    "for cyclone_id in df_Medcrossers['id'].unique():\n",
    "    cyclone = df_Medcrossers[df_Medcrossers['id'] == cyclone_id].reset_index(drop=True)\n",
    "    if len(cyclone) < 2:\n",
    "        continue\n",
    "    dists = [\n",
    "        QSfunc.haversine(cyclone.loc[t, 'lon'], cyclone.loc[t, 'lat'],\n",
    "                     cyclone.loc[t+1, 'lon'], cyclone.loc[t+1, 'lat'])\n",
    "        for t in range(len(cyclone) - 1)\n",
    "    ]\n",
    "    list_med_vel.append(np.median(dists))\n",
    "\n",
    "median_vel = np.array(list_med_vel)\n",
    "\n",
    "# Create DataFrame with quantiles and categories\n",
    "df_med_vel = QSfunc.assign_quantiles_and_categories_FT(median_vel, df_Medcrossers, 'FT_MED_VEL')\n",
    "\n",
    "# Merge with original dataset\n",
    "df_QS_Medcrossers = df_Medcrossers.copy()\n",
    "df_QS_Medcrossers = df_QS_Medcrossers.merge(df_med_vel, on='id', how='left')"
   ]
  },
  {
   "cell_type": "markdown",
   "metadata": {},
   "source": [
    "### Total Distance \"FT_TOT_DIST\" ('Path Stationarity' as in Aregger, 2021)\n",
    "- based on maximum distance that a cyclone can travel over its whole lifetime\n",
    "- calculated by summing up the distances between each observational timestep"
   ]
  },
  {
   "cell_type": "code",
   "execution_count": 4,
   "metadata": {},
   "outputs": [],
   "source": [
    "# Calculate total distance for each cyclone\n",
    "# --------------------------------------------------------------\n",
    "# For each unique cyclone ID in the dataframe:\n",
    "#   - select its track points (lat/lon)\n",
    "#   - compute the distance between consecutive points (1-hour time steps)\n",
    "#   - store the median speed of each cyclone\n",
    "#\n",
    "# Cyclone categorisation (slow, average, fast) is based on quantiles\n",
    "# and is handled using a helper function to assign quantile ranks and categories.\n",
    "# Resulting values are added to the main dataframe.\n",
    "# --------------------------------------------------------------\n",
    "\n",
    "list_tot_dist = []\n",
    "\n",
    "for cyclone_id in df_Medcrossers['id'].unique():\n",
    "    cyclone = df_Medcrossers[df_Medcrossers['id'] == cyclone_id].reset_index(drop=True)\n",
    "    if len(cyclone) < 2:\n",
    "        continue\n",
    "    dists = [\n",
    "        QSfunc.haversine(cyclone.loc[t, 'lon'], cyclone.loc[t, 'lat'],\n",
    "                     cyclone.loc[t+1, 'lon'], cyclone.loc[t+1, 'lat'])\n",
    "        for t in range(len(cyclone) - 1)\n",
    "    ]\n",
    "    list_tot_dist.append(np.sum(dists))\n",
    "\n",
    "tot_dist = np.array(list_tot_dist)\n",
    "\n",
    "# Create DataFrame with quantiles and categories\n",
    "df_tot_dist = QSfunc.assign_quantiles_and_categories_FT(tot_dist, df_Medcrossers, 'FT_TOT_DIST')\n",
    "\n",
    "# Merge with original data\n",
    "df_QS_Medcrossers = df_QS_Medcrossers.merge(df_tot_dist, on='id', how='left')"
   ]
  },
  {
   "cell_type": "markdown",
   "metadata": {},
   "source": [
    "## Along Track Stationarity"
   ]
  },
  {
   "cell_type": "markdown",
   "metadata": {},
   "source": [
    "The following three metrics focus on distances covered in a 12-hr timescale.\n",
    "\n",
    "Users may change this window by altering the following variable:"
   ]
  },
  {
   "cell_type": "code",
   "execution_count": 5,
   "metadata": {},
   "outputs": [],
   "source": [
    "window = 12"
   ]
  },
  {
   "cell_type": "markdown",
   "metadata": {},
   "source": [
    "### 12-hour Distance \"AT_12h_DIST\"\n",
    "- total path distance travelled by a cyclone over 12 consecutive hourly steps"
   ]
  },
  {
   "cell_type": "code",
   "execution_count": 6,
   "metadata": {},
   "outputs": [],
   "source": [
    "def calculate_dist12h_df(df):\n",
    "    list_dist_12hrs = []\n",
    "    for id_val, group in df.groupby('id'):\n",
    "        lons = group['lon'].values\n",
    "        lats = group['lat'].values\n",
    "        for i in range(len(group) - window):\n",
    "            dist_sum = sum([QSfunc.haversine(lons[j], lats[j], lons[j+1], lats[j+1]) for j in range(i, i+window)])\n",
    "            list_dist_12hrs.append([id_val, lons[i], lats[i], dist_sum])\n",
    "    return pd.DataFrame(list_dist_12hrs, columns=['id', 'lon', 'lat', 'dist_sum'])"
   ]
  },
  {
   "cell_type": "code",
   "execution_count": 7,
   "metadata": {},
   "outputs": [],
   "source": [
    "df_12hr = calculate_dist12h_df(df_Medcrossers)\n",
    "new_cols_12hr = QSfunc.categorise_distances_AT(df_12hr, df_Medcrossers, window, 'AT_12h_DIST')"
   ]
  },
  {
   "cell_type": "code",
   "execution_count": 8,
   "metadata": {},
   "outputs": [],
   "source": [
    "df_QS_Medcrossers = pd.concat([df_QS_Medcrossers, new_cols_12hr], axis=1)"
   ]
  },
  {
   "cell_type": "markdown",
   "metadata": {},
   "source": [
    "### Radial Distance \"AT_RAD_DIST\"\n",
    "- computes the sum of straight-line distances from a reference point to each of the next 12 hourly positions (like spokes of a wheel)"
   ]
  },
  {
   "cell_type": "code",
   "execution_count": 9,
   "metadata": {},
   "outputs": [],
   "source": [
    "def calculate_radial_df(df):\n",
    "    list_dist_rad = []\n",
    "    for id_val, group in df.groupby('id'):\n",
    "        lons = group['lon'].values\n",
    "        lats = group['lat'].values\n",
    "        for i in range(len(group) - window):\n",
    "            dist_sum = sum([QSfunc.haversine(lons[i], lats[i], lons[j], lats[j]) for j in range(i+1, i+window+1)])    ######################\n",
    "            list_dist_rad.append([id_val, lons[i], lats[i], dist_sum])\n",
    "    return pd.DataFrame(list_dist_rad, columns=['id', 'lon', 'lat', 'dist_sum'])"
   ]
  },
  {
   "cell_type": "code",
   "execution_count": 10,
   "metadata": {},
   "outputs": [],
   "source": [
    "df_radial = calculate_radial_df(df_Medcrossers)\n",
    "new_cols_rad = QSfunc.categorise_distances_AT(df_radial, df_Medcrossers, window, 'AT_RAD_DIST')"
   ]
  },
  {
   "cell_type": "code",
   "execution_count": 11,
   "metadata": {},
   "outputs": [],
   "source": [
    "df_QS_Medcrossers = pd.concat([df_QS_Medcrossers, new_cols_rad], axis=1)"
   ]
  },
  {
   "cell_type": "markdown",
   "metadata": {},
   "source": [
    "### Circle Distance \"AT_CIRCLE_DIST\"\n",
    "- finds the maximum distance from a reference point to any of the next 12 positions, defining the radius of the smallest circle that contains them"
   ]
  },
  {
   "cell_type": "code",
   "execution_count": 12,
   "metadata": {},
   "outputs": [],
   "source": [
    "def calculate_circle_df(df):\n",
    "    list_circle = []\n",
    "    for id_val, group in df.groupby('id'):\n",
    "        if len(group) <= window:\n",
    "            continue\n",
    "        for i in range(len(group) - window):\n",
    "            window_ = group.iloc[i:i + window+1]\n",
    "            center_lon, center_lat = window_.iloc[0][['lon', 'lat']]\n",
    "            lons = window_['lon'].values[1:]\n",
    "            lats = window_['lat'].values[1:]\n",
    "            distances = QSfunc.haversine(center_lon, center_lat, lons, lats)\n",
    "            max_distance = distances.max()\n",
    "            list_circle.append([id_val, center_lon, center_lat, max_distance])\n",
    "    return pd.DataFrame(list_circle, columns=['id', 'lon', 'lat', 'dist_sum'])"
   ]
  },
  {
   "cell_type": "code",
   "execution_count": 13,
   "metadata": {},
   "outputs": [],
   "source": [
    "df_circle = calculate_circle_df(df_Medcrossers)\n",
    "new_cols_circle = QSfunc.categorise_distances_AT(df_circle, df_Medcrossers, window, 'AT_CIRCLE_DIST')"
   ]
  },
  {
   "cell_type": "code",
   "execution_count": 14,
   "metadata": {},
   "outputs": [],
   "source": [
    "df_QS_Medcrossers = pd.concat([df_QS_Medcrossers, new_cols_circle], axis=1)"
   ]
  },
  {
   "cell_type": "markdown",
   "metadata": {},
   "source": [
    "## Save final QS Table as csv file"
   ]
  },
  {
   "cell_type": "code",
   "execution_count": 15,
   "metadata": {},
   "outputs": [
    {
     "name": "stdout",
     "output_type": "stream",
     "text": [
      "   id    lon     lat  year  month  day  time      hPa  FT_MED_VEL_v  \\\n",
      "0   4  0.960  40.700  1979      1    8    18  1016.93        31.008   \n",
      "1   4  1.080  40.761  1979      1    8    19  1016.93        31.008   \n",
      "2   4  1.300  40.746  1979      1    8    20  1016.64        31.008   \n",
      "3   4  1.624  40.699  1979      1    8    21  1016.35        31.008   \n",
      "4   4  1.986  40.693  1979      1    8    22  1015.86        31.008   \n",
      "\n",
      "   FT_MED_VEL_q  ...  FT_TOT_DIST_c  AT_12h_DIST_v  AT_12h_DIST_q  \\\n",
      "0         0.831  ...            0.0        293.162          0.585   \n",
      "1         0.831  ...            0.0        313.308          0.628   \n",
      "2         0.831  ...            0.0        321.903          0.645   \n",
      "3         0.831  ...            0.0        319.393          0.640   \n",
      "4         0.831  ...            0.0        313.970          0.629   \n",
      "\n",
      "   AT_12h_DIST_c  AT_RAD_DIST_v  AT_RAD_DIST_q  AT_RAD_DIST_c  \\\n",
      "0            0.0       1554.441          0.513            2.0   \n",
      "1            0.0       1710.421          0.566            0.0   \n",
      "2            0.0       1779.949          0.588            0.0   \n",
      "3            0.0       1752.835          0.580            0.0   \n",
      "4            0.0       1687.237          0.558            0.0   \n",
      "\n",
      "   AT_CIRCLE_DIST_v  AT_CIRCLE_DIST_q  AT_CIRCLE_DIST_c  \n",
      "0           259.569             0.573               0.0  \n",
      "1           279.078             0.616               0.0  \n",
      "2           288.992             0.636               0.0  \n",
      "3           290.526             0.639               0.0  \n",
      "4           287.221             0.633               0.0  \n",
      "\n",
      "[5 rows x 23 columns]\n"
     ]
    }
   ],
   "source": [
    "# Final DataFrame with all calculated features\n",
    "print(df_QS_Medcrossers.head())\n",
    "df_QS_Medcrossers.to_csv('../output/TRACKS_CL5_QS_Medcrossers.csv', index=False, header=True)  # or '../output/other_TRACKS/TRACKS_CL#_QS_Medcrossers.csv' for other CL numbers"
   ]
  }
 ],
 "metadata": {
  "kernelspec": {
   "display_name": "mamba-new",
   "language": "python",
   "name": "mamba-new"
  },
  "language_info": {
   "codemirror_mode": {
    "name": "ipython",
    "version": 3
   },
   "file_extension": ".py",
   "mimetype": "text/x-python",
   "name": "python",
   "nbconvert_exporter": "python",
   "pygments_lexer": "ipython3",
   "version": "3.12.5"
  }
 },
 "nbformat": 4,
 "nbformat_minor": 4
}
