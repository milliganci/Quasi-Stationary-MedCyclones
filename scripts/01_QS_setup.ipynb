{
  "cells": [
    {
      "cell_type": "markdown",
      "id": "9c6a629a-e247-4e0a-a1d7-5d45a65fcc7d",
      "metadata": {},
      "source": [
        "# Load and Modify MedCyclone Dataset\n",
        "Upload your MedCyclone dataset and define the temporal and spatial extent of your analysis. \n",
        "Filter the cyclone tracks crossing at least one grid point corresponding to the Mediterranean Sea and Black Sea (henceforth **Mediterranean basin**).\n",
        "\n",
        "### Original Dataset\n",
        "- df_tracks_in = input MedCyclone dataset. One of the datasets created and described in [Flaounas et al. (2023)](https://wcd.copernicus.org/articles/4/639/2023/). As an example, we take TRACKS_CL5 consisting of 3808 cyclone tracks spending at least 24h in the Mediterranean region, tracked with confidence level 5 (see details in paper).\n",
        "\n",
        "### Generated Dataset:\n",
        "- *df_tracks_infoMedcrossers* = df_tracks_in with desired time and ID filtering + one additional column with info about if each cyclone is a \"Medcrosser\". This informs whether or not a cyclone (ID) crosses the Mediterranean basin (TRUE/FALSE). Can be used as a filter for heat lows over North Africa.\n",
        "\n",
        "- *df_tracks_onlyMedcrossers* = df_tracks_in with desired time, ID and Medcrosser filtering. It consists of only the cyclones that cross the Mediterranean basin (column \"Medcrosser\" == TRUE)."
      ]
    },
    {
      "cell_type": "code",
      "execution_count": 14,
      "id": "13db3458-57ea-4ca4-a37c-3494e3c64d39",
      "metadata": {
        "trusted": true
      },
      "outputs": [],
      "source": [
        "# Load python packages\n",
        "import numpy as np\n",
        "from scipy.io import savemat\n",
        "import xarray as xr\n",
        "\n",
        "import QS_functions as QSfunc"
      ]
    },
    {
      "cell_type": "code",
      "execution_count": 15,
      "id": "c6cf6366",
      "metadata": {},
      "outputs": [],
      "source": [
        "# Directories\n",
        "data_dir = \"../data/\"\n",
        "output_dir = \"../output/\"\n",
        "# Input track file\n",
        "input_file = \"other_TRACKS/TRACKS_CL8.dat\"   # or other_TRACKS/TRACKS_CL#.dat"
      ]
    },
    {
      "cell_type": "code",
      "execution_count": 16,
      "id": "4d1f9c80-c3b7-4224-a86b-0f25c8d87cc9",
      "metadata": {
        "trusted": true
      },
      "outputs": [],
      "source": [
        "# Selection storm IDs, year range, months and time frequency\n",
        "id_storm = 0 # all storms\n",
        "year_range = [1979,2020] # [start_year, end_year]... available from 1979 to 2020\n",
        "months = [] # if [] then all months, otherwise e.g. ['1','2'] for January and February\n",
        "t_int = 1         # time interval (in t_int_u). The stationarity definitions are tuned to 1 hour time intervals.\n",
        "t_int_u = 'h'\n",
        "\n",
        "# Construct time array\n",
        "t_start =  str(year_range[0])+'-01-01T00'\n",
        "t_end = str(year_range[1]+1)+'-01-01'\n",
        "t_last = np.array(t_end, dtype='datetime64') - np.timedelta64(t_int, t_int_u)\n",
        "t_last = str(t_last)[:10] \n",
        "var_time = QSfunc.timerange_datetime(t_start,t_end,t_int,t_int_u, months)"
      ]
    },
    {
      "cell_type": "code",
      "execution_count": 18,
      "id": "069f6ef2-eda8-4292-8241-542cc1fa80df",
      "metadata": {
        "trusted": true
      },
      "outputs": [],
      "source": [
        "# Open track dataset\n",
        "df_tracks_in = QSfunc.open_tracks_flaounas(path_name=data_dir+input_file)\n",
        "# Define df_tracks_in column names\n",
        "df_tracks_in.columns = ['id','lon','lat','year','month','day','time','hPa']\n",
        "\n",
        "# Storm selection, by ID and time range/frequency\n",
        "df_tracks_sel = QSfunc.get_storms_sometime(df_tracks_in, id_storm, var_time)\n",
        "\n",
        "# Make variable time array\n",
        "time_tracks_sel = QSfunc.make_var_time(df_tracks_sel) # same as var_time but with time steps in the dataset"
      ]
    },
    {
      "cell_type": "code",
      "execution_count": 19,
      "id": "77ed6595",
      "metadata": {},
      "outputs": [
        {
          "name": "stdout",
          "output_type": "stream",
          "text": [
            "   id     lon     lat  year  month  day  time      hPa\n",
            "0   1 -19.060  31.310  1979      1    5     4  1005.25\n",
            "1   1 -18.126  31.260  1979      1    5     5  1004.66\n",
            "2   1 -17.286  31.219  1979      1    5     6  1004.09\n",
            "3   1 -16.690  31.069  1979      1    5     7  1003.66\n",
            "4   1 -16.318  30.817  1979      1    5     8  1003.79\n"
          ]
        }
      ],
      "source": [
        "print(df_tracks_sel.head())"
      ]
    },
    {
      "cell_type": "markdown",
      "id": "798d7f12-1db4-4182-9784-d7fff0d349ae",
      "metadata": {},
      "source": [
        "# How to Filter Heat Lows from df_tracks_sel?\n",
        "\n",
        "Select IDs of MedCyclone tracks crossing the Mediterranean basin in at least one time instance. \n",
        "1. Sea mask: define crossing area (Mediterranean basin)\n",
        "2. Find nearest neighbour for each coordinate of a cyclone path and define new coordinates in grid of sea mask\n",
        "3. Check for each cyclone in df_tracks_sel if they cross Mediterranean basin (Medcrosser=TRUE) or not (Medcrosser=FALSE). Useful to filter heat-lows!\n",
        "4. Save datasets with Medcrosser info"
      ]
    },
    {
      "cell_type": "markdown",
      "id": "b29e86e8-e8c9-4a7e-a717-451bf5baee33",
      "metadata": {},
      "source": [
        "### 1. Sea Mask\n",
        "Upload land-sea mask and define area of interest (Mediterranean basin)"
      ]
    },
    {
      "cell_type": "code",
      "execution_count": 20,
      "id": "32507bd5-1af1-4efd-bca0-3e90bb7fa5cd",
      "metadata": {},
      "outputs": [
        {
          "data": {
            "text/plain": [
              "<matplotlib.collections.QuadMesh at 0x7d4c8aa87c40>"
            ]
          },
          "execution_count": 20,
          "metadata": {},
          "output_type": "execute_result"
        },
        {
          "data": {
            "image/png": "[encoded data removed]",
            "text/plain": [
              "<Figure size 640x480 with 2 Axes>"
            ]
          },
          "metadata": {},
          "output_type": "display_data"
        }
      ],
      "source": [
        "# Load land-sea mask\n",
        "ds_s = xr.open_dataset(data_dir+'land_sea_mask.nc', engine=\"netcdf4\")\n",
        "\n",
        "# Round values in dataset to nearest integer (so there are only 0/1)\n",
        "ds_s['lsm'].values = np.round(ds_s['lsm'].values, 0)\n",
        "\n",
        "# Exchange 0 and 1 (so that sea=1, land=0)\n",
        "ds_s['lsm'].values = np.where(ds_s['lsm'].values == 1, 0, 1)\n",
        "\n",
        "# # Plot land-sea mask\n",
        "# ds_s['lsm'].plot()\n",
        "\n",
        "# Define area of interest\n",
        "sea_mask_in = ds_s['lsm']\n",
        "sea_mask_e = sea_mask_in.where((sea_mask_in.lat<=48)&(sea_mask_in.lat>=30)&(sea_mask_in.lon<=42)&(sea_mask_in.lon>=-6),0)\n",
        "sea_mask = sea_mask_e.where(((sea_mask_e.lat<=43)|(sea_mask_e.lon>=0)),0)\n",
        "\n",
        "# Plot final sea points\n",
        "sea_mask.plot()"
      ]
    },
    {
      "cell_type": "markdown",
      "id": "5cb87604-4de0-4d01-8a90-a1b8778bd5c4",
      "metadata": {},
      "source": [
        "### 2. Nearest Neighbour\n",
        "Assign to each coordinate of a cyclone's track it's nearest neighbouring gridpoint (from the sea mask)"
      ]
    },
    {
      "cell_type": "code",
      "execution_count": 21,
      "id": "aa8fda16-2b43-4e77-9892-c45ba61b7001",
      "metadata": {},
      "outputs": [],
      "source": [
        "# Definitions\n",
        "# Grid sea_mask (dimensions)\n",
        "lon = np.array(sea_mask.lon)\n",
        "lat = np.array(sea_mask.lat)\n",
        "grid = np.array(list(zip(lon,lat)))"
      ]
    },
    {
      "cell_type": "code",
      "execution_count": 22,
      "id": "8a625612",
      "metadata": {},
      "outputs": [
        {
          "data": {
            "text/plain": [
              "[1,\n",
              " (-19.0, 31.25),\n",
              " (-18.25, 31.25),\n",
              " (-17.25, 31.25),\n",
              " (-16.75, 31.0),\n",
              " (-16.25, 30.75),\n",
              " (-16.0, 30.5),\n",
              " (-16.0, 30.25),\n",
              " (-15.75, 29.75),\n",
              " (-15.75, 29.5),\n",
              " (-15.5, 29.25),\n",
              " (-15.5, 29.25),\n",
              " (-15.25, 29.25),\n",
              " (-15.0, 29.25),\n",
              " (-14.75, 29.25),\n",
              " (-14.5, 29.5),\n",
              " (-14.25, 29.5),\n",
              " (-14.0, 29.5),\n",
              " (-14.0, 29.5),\n",
              " (-14.0, 29.75),\n",
              " (-13.75, 29.75),\n",
              " (-13.75, 30.0),\n",
              " (-13.75, 30.25),\n",
              " (-13.75, 30.25),\n",
              " (-13.75, 30.5),\n",
              " (-13.75, 30.5),\n",
              " (-14.0, 30.5),\n",
              " (-14.0, 30.5),\n",
              " (-14.25, 30.5),\n",
              " (-14.5, 30.25),\n",
              " (-14.5, 30.25),\n",
              " (-14.5, 30.0),\n",
              " (-14.5, 29.75),\n",
              " (-14.5, 29.5),\n",
              " (-14.5, 29.5),\n",
              " (-14.5, 29.5),\n",
              " (-14.25, 29.25),\n",
              " (-14.25, 29.25),\n",
              " (-14.0, 29.25),\n",
              " (-14.0, 29.5),\n",
              " (-13.75, 29.5),\n",
              " (-13.75, 29.5),\n",
              " (-13.75, 29.5),\n",
              " (-13.5, 29.75),\n",
              " (-13.5, 29.75),\n",
              " (-13.25, 30.0),\n",
              " (-13.25, 30.0),\n",
              " (-13.25, 30.25),\n",
              " (-13.25, 30.25),\n",
              " (-13.25, 30.5),\n",
              " (-13.25, 30.75),\n",
              " (-13.25, 30.75),\n",
              " (-13.25, 31.0),\n",
              " (-13.25, 31.25),\n",
              " (-13.25, 31.25),\n",
              " (-13.25, 31.5),\n",
              " (-13.25, 31.75),\n",
              " (-13.25, 31.75),\n",
              " (-13.25, 32.0),\n",
              " (-13.25, 32.0),\n",
              " (-13.25, 32.25),\n",
              " (-13.25, 32.5),\n",
              " (-13.5, 32.5),\n",
              " (-13.5, 32.5),\n",
              " (-13.5, 32.75),\n",
              " (-13.5, 32.75),\n",
              " (-13.5, 32.75),\n",
              " (-13.5, 33.0),\n",
              " (-13.5, 33.0),\n",
              " (-13.5, 33.0),\n",
              " (-13.75, 33.25),\n",
              " (-13.75, 33.25),\n",
              " (-13.75, 33.25),\n",
              " (-13.75, 33.25),\n",
              " (-13.75, 33.25),\n",
              " (-13.75, 33.25),\n",
              " (-13.75, 33.25),\n",
              " (-13.75, 33.25),\n",
              " (-14.0, 33.25),\n",
              " (-14.0, 33.25),\n",
              " (-14.0, 33.25),\n",
              " (-14.0, 33.25),\n",
              " (-14.0, 33.0),\n",
              " (-14.0, 33.0),\n",
              " (-14.0, 32.75),\n",
              " (-14.0, 32.75),\n",
              " (-14.0, 32.5),\n",
              " (-14.0, 32.5),\n",
              " (-14.0, 32.25),\n",
              " (-14.0, 32.0),\n",
              " (-14.0, 31.75),\n",
              " (-14.25, 31.75),\n",
              " (-14.25, 31.5),\n",
              " (-14.25, 31.25),\n",
              " (-14.25, 31.25),\n",
              " (-14.25, 31.0),\n",
              " (-14.5, 30.75),\n",
              " (-14.5, 30.5),\n",
              " (-14.5, 30.5),\n",
              " (-14.5, 30.25),\n",
              " (-14.5, 30.0),\n",
              " (-14.5, 29.75),\n",
              " (-14.75, 29.5),\n",
              " (-14.75, 29.5),\n",
              " (-14.75, 29.25),\n",
              " (-15.0, 29.25),\n",
              " (-15.0, 29.0),\n",
              " (-15.0, 29.0),\n",
              " (-15.0, 29.0),\n",
              " (-15.0, 28.75),\n",
              " (-15.25, 28.75),\n",
              " (-15.5, 28.5),\n",
              " (-15.75, 28.5),\n",
              " (-16.0, 28.5),\n",
              " (-16.25, 28.5)]"
            ]
          },
          "execution_count": 22,
          "metadata": {},
          "output_type": "execute_result"
        }
      ],
      "source": [
        "# FIND_NEAREST_INDEX: All points df_tracks_sel\n",
        "# Loop id-wise\n",
        "list_coord = []                                                         # create list of ids and coords\n",
        "\n",
        "for id_track in df_tracks_sel['id'].unique():                              # for each unique id in df_tracks_sel\n",
        "    track = df_tracks_sel[df_tracks_sel['id'] == id_track]                    # select track with id_track\n",
        "    coords = []\n",
        "    for _, row in track.iterrows():                                     # for each row[1] (lon), row[2] (lat) point in the track\n",
        "        ix, iy = QSfunc.find_nearest_index(lon, lat, row[1], row[2])        # find nearest index in lon, lat\n",
        "        coords.append((lon[ix], lat[iy]))\n",
        "    list_coord.append([id_track] + coords)\n",
        "\n",
        "list_coord[0]"
      ]
    },
    {
      "cell_type": "markdown",
      "id": "115b0a3a-4d34-4276-8a7a-b2c900d8081a",
      "metadata": {},
      "source": [
        "### 3. Define Medcrossers\n",
        "- Create a mask for each ID with 1 for track point in Mediterranean basin, 0 for track point outside\n",
        "- Compare each mask with sea_mask and create list of cyclones that cross the Mediterranean basin in at least one time instance (Medcrossers)"
      ]
    },
    {
      "cell_type": "code",
      "execution_count": 23,
      "id": "2cd2a4e8",
      "metadata": {},
      "outputs": [
        {
          "name": "stdout",
          "output_type": "stream",
          "text": [
            "Medcrosser cyclone IDs: [2, 3, 5, 6, 7, 8, 9, 10, 12, 14, 15, 16, 18, 19, 20, 21, 22, 23, 24, 25, 26, 27, 28, 29, 30, 31, 32, 35, 37, 38, 39, 40, 41, 44, 45, 46, 47, 48, 49, 51, 52, 53, 54, 55, 56, 57, 58, 59, 60, 62, 63, 64, 65, 66, 67, 68, 70, 72, 76, 77, 78, 80, 81, 84, 85, 86, 87, 88, 89, 90, 91, 92, 93, 94, 95, 96, 97, 99, 100, 101, 103, 104, 105, 106, 107, 108, 109, 110, 111, 112, 113, 114, 115, 116, 117, 118, 119, 120, 122, 123, 125, 127, 128, 129, 130, 131, 132, 133, 135, 136, 137, 138, 139, 140, 141, 142, 143, 144, 145, 146, 147, 148, 149, 150, 151, 152, 153, 154, 155, 156, 157, 158, 159, 160, 161, 162, 163, 164, 165, 166, 167, 168, 169, 170, 171, 172, 173, 175, 176, 177, 179, 180, 181, 182, 183, 184, 185, 186, 189, 190, 191, 192, 193, 194, 195, 196, 199, 200, 202, 203, 204, 205, 206, 207, 209, 211, 212, 213, 214, 215, 216, 217, 218, 219, 220, 221, 222, 224, 226, 227, 231, 232, 234, 235, 236, 239, 240, 241, 242, 243, 244, 246, 247, 248, 252, 253, 255, 257, 258, 259, 260, 262, 263, 264, 265, 266, 268, 269, 271, 272, 273, 274, 275, 276, 277, 278, 279, 281, 283, 284, 285, 288, 289, 290, 291, 293, 294, 296, 298, 299, 300, 301, 303, 304, 306, 307, 308, 309, 310, 311, 312, 313, 314, 316, 318, 320, 322, 323, 326, 327, 328, 332, 333, 334, 338, 340, 341, 342, 343, 344, 345, 346, 347, 348, 349, 350, 351, 352, 353, 354, 356, 357, 359, 360, 361, 362, 363, 364, 365, 366, 367, 369, 370, 371, 372, 373, 374, 375, 377, 378, 380, 382, 384, 385, 386, 388, 389, 390, 391, 392, 393, 395, 396, 397, 398, 399, 400, 401, 403, 405, 406, 407, 408, 410, 411, 412, 413, 415, 416, 417, 418, 419, 420, 421, 423, 424, 425, 426, 427, 429, 430, 432, 434, 436, 438, 439, 440, 442, 443, 444, 445, 447, 448, 450, 451, 452, 453, 454, 455, 456, 457, 459, 460, 461, 462, 463, 464, 465, 467, 468, 470, 471, 472, 473, 474, 475, 476, 477, 478, 480, 481, 482, 483, 484, 485, 486, 487, 488, 489, 490, 491, 492, 494, 495, 497, 498, 499, 500, 501, 502, 503, 504, 505, 506, 507, 509, 510, 511, 512, 513, 514, 518, 519, 520, 521, 522, 523, 524, 525, 526, 527, 528, 529, 530, 532, 534, 536, 537, 538, 540, 541, 542, 543, 545, 546, 548, 549, 550, 551, 552, 555, 556, 557, 558, 559, 560, 563, 564, 566, 567, 568, 569, 570, 571, 572, 573, 574, 575, 576, 577, 579, 580, 582, 583, 584, 585, 586, 587, 588, 589, 591, 592, 593, 594, 595, 596, 597, 598, 599, 601, 602, 603, 604, 605, 606, 607, 611, 612, 613, 614, 615, 616, 617, 618, 619, 620, 622, 623, 624, 626, 628, 629, 630, 631, 633, 634, 636, 637, 638, 639, 640, 642, 643, 645, 646, 647, 648, 649, 650, 651, 652, 653, 656, 657, 658, 659, 660, 662, 663, 664, 665, 666, 667, 668, 669, 670, 671, 673, 674, 675, 676, 677, 678, 679, 681, 683, 684, 687, 688, 689, 691, 692, 694, 695, 696, 697, 698, 700, 701, 703, 704, 705, 706, 707, 708, 709, 710, 711, 712, 713, 714, 715, 716, 717, 718, 719, 720, 721, 722, 723, 724, 726, 727, 728, 729, 731, 732, 733, 734, 735, 737, 738, 739, 740, 742, 743, 744, 745, 748, 750, 751, 754, 755, 757, 758, 760, 761, 762, 763, 764, 765, 766, 767, 768, 769, 770, 771, 772, 773, 774, 775, 777, 778, 779, 780, 781, 782, 783, 784, 785, 786, 787, 788, 789, 790, 791, 792, 793, 794, 795, 796, 797, 798, 799, 800, 801, 802, 803, 804, 805, 806, 808, 810, 811, 813, 816, 817, 818, 819, 820, 821, 823, 824, 825, 826, 827, 828, 829, 830, 831, 832, 833, 834, 835, 836, 837, 839, 840, 841, 842, 844, 845, 846, 848, 849, 850, 851, 852, 853, 854, 855, 856, 857, 858, 859, 860, 861, 864, 865, 866, 867, 868, 869, 870, 872, 873, 874, 875, 876, 877, 878, 879, 880, 881, 882, 883, 885, 886, 887, 888, 889, 890, 891, 892, 893, 895, 896, 897, 898, 899, 900, 901, 902, 903, 904, 905, 906, 907, 908, 909, 910, 911, 912, 914, 915, 917, 918, 919, 920, 923, 925, 926, 927, 929, 930, 931, 932, 934, 935, 936, 937, 938, 939, 940, 941, 942, 943, 944, 945, 947, 949, 951, 954, 955, 956, 957, 958, 961, 962, 963, 964, 965, 966, 967, 968, 970, 971, 972, 975, 976, 977, 978, 979, 980, 981, 982, 983, 984, 985, 986, 987, 988, 991, 994, 995, 996, 997, 998, 999, 1000, 1001, 1002, 1003, 1004, 1005, 1006, 1007, 1008, 1009, 1010, 1013, 1014, 1015, 1016, 1017, 1020, 1023, 1026, 1027, 1029, 1030, 1031, 1034, 1035, 1036, 1037, 1038, 1039, 1040, 1041, 1042, 1043, 1045, 1047, 1049, 1050, 1051, 1052, 1053, 1054, 1055, 1056, 1057, 1059, 1060, 1061, 1062, 1063, 1064, 1065, 1066, 1067, 1069, 1070, 1071, 1072, 1075, 1076, 1077, 1079, 1080, 1082, 1084, 1085, 1087, 1088, 1089]\n"
          ]
        }
      ],
      "source": [
        "# Check if each track has points in common with sea_mask\n",
        "ids_medtracks = []\n",
        "\n",
        "lon_idx_map = {v: i for i, v in enumerate(lon)}\n",
        "lat_idx_map = {v: j for j, v in enumerate(lat)}\n",
        "\n",
        "for inner_list in list_coord:\n",
        "\n",
        "    # Create mask for each track, indicating grid points that are part of the track\n",
        "    id = inner_list[0]\n",
        "    coord_i = inner_list[1:]\n",
        "\n",
        "    mask_i = np.zeros((len(lat), len(lon)), dtype=int)\n",
        "    for x, y in coord_i:\n",
        "        i = lon_idx_map.get(x)\n",
        "        j = lat_idx_map.get(y)\n",
        "        if i is not None and j is not None:\n",
        "            mask_i[j, i] = 1\n",
        "\n",
        "    # Check if the track mask has at least one point in common with sea_mask\n",
        "    mask_cross = mask_i * sea_mask  # Multiply with sea_mask\n",
        "    if np.sum(mask_cross) >= 1:\n",
        "        ids_medtracks.append(id)\n",
        "\n",
        "print(f\"Medcrosser cyclone IDs: {ids_medtracks}\")\n"
      ]
    },
    {
      "cell_type": "markdown",
      "id": "e439e364",
      "metadata": {},
      "source": [
        "### 4. Save Medcrossers\n",
        "- Update df_tracks_sel with Medcrosser information (column \"Medcrossers\", *df_tracks_infoMedcrossers*) and save\n",
        "- Filter Medcrossers in df_tracks_sel (*df_tracks_onlyMedcrossers*) and save"
      ]
    },
    {
      "cell_type": "code",
      "execution_count": 25,
      "id": "c0e96f4d-e7e4-4817-9354-b85aec73fd28",
      "metadata": {},
      "outputs": [],
      "source": [
        "# Create new dataframe with df_tracks_sel+medcrosser info (df_tracks_infoMedcrossers)\n",
        "df_tracks_infoMedcrossers = df_tracks_sel.copy()  # Create a copy of df_tracks_sel\n",
        "df_tracks_infoMedcrossers['Medcrosser'] = df_tracks_infoMedcrossers['id'].isin(ids_medtracks)\n",
        "# Save dataset\n",
        "df_tracks_infoMedcrossers.to_csv(output_dir + input_file[:-4] + '_infoMedcrossers.csv', index=False, header=True)\n",
        "\n",
        "# Create new dataframe selecting only Medcrossers from df_tracks_sel (df_tracks_Medcrossers)\n",
        "df_tracks_onlyMedcrossers = df_tracks_sel[df_tracks_infoMedcrossers['Medcrosser'] == True]\n",
        "# Save dataset\n",
        "df_tracks_onlyMedcrossers.to_csv(output_dir + input_file[:-4] + '_onlyMedcrossers.csv', index=False, header=True)"
      ]
    },
    {
      "cell_type": "code",
      "execution_count": 24,
      "id": "bd53679a",
      "metadata": {},
      "outputs": [
        {
          "data": {
            "application/vnd.microsoft.datawrangler.viewer.v0+json": {
              "columns": [
                {
                  "name": "index",
                  "rawType": "int64",
                  "type": "integer"
                },
                {
                  "name": "id",
                  "rawType": "int64",
                  "type": "integer"
                },
                {
                  "name": "lon",
                  "rawType": "float64",
                  "type": "float"
                },
                {
                  "name": "lat",
                  "rawType": "float64",
                  "type": "float"
                },
                {
                  "name": "year",
                  "rawType": "int64",
                  "type": "integer"
                },
                {
                  "name": "month",
                  "rawType": "int64",
                  "type": "integer"
                },
                {
                  "name": "day",
                  "rawType": "int64",
                  "type": "integer"
                },
                {
                  "name": "time",
                  "rawType": "int64",
                  "type": "integer"
                },
                {
                  "name": "hPa",
                  "rawType": "float64",
                  "type": "float"
                },
                {
                  "name": "Medcrosser",
                  "rawType": "bool",
                  "type": "boolean"
                }
              ],
              "ref": "b737352d-b31e-48f8-beeb-4fc24917aa7d",
              "rows": [
                [
                  "0",
                  "1",
                  "-17.75",
                  "48.12",
                  "1979",
                  "1",
                  "3",
                  "1",
                  "995.45",
                  "False"
                ],
                [
                  "1",
                  "1",
                  "-17.447",
                  "48.163",
                  "1979",
                  "1",
                  "3",
                  "2",
                  "993.78",
                  "False"
                ],
                [
                  "2",
                  "1",
                  "-16.979",
                  "48.143",
                  "1979",
                  "1",
                  "3",
                  "3",
                  "992.6",
                  "False"
                ],
                [
                  "3",
                  "1",
                  "-16.344",
                  "48.078",
                  "1979",
                  "1",
                  "3",
                  "4",
                  "991.93",
                  "False"
                ],
                [
                  "4",
                  "1",
                  "-15.679",
                  "48.031",
                  "1979",
                  "1",
                  "3",
                  "5",
                  "990.32",
                  "False"
                ]
              ],
              "shape": {
                "columns": 9,
                "rows": 5
              }
            },
            "text/html": [
              "<div>\n",
              "<style scoped>\n",
              "    .dataframe tbody tr th:only-of-type {\n",
              "        vertical-align: middle;\n",
              "    }\n",
              "\n",
              "    .dataframe tbody tr th {\n",
              "        vertical-align: top;\n",
              "    }\n",
              "\n",
              "    .dataframe thead th {\n",
              "        text-align: right;\n",
              "    }\n",
              "</style>\n",
              "<table border=\"1\" class=\"dataframe\">\n",
              "  <thead>\n",
              "    <tr style=\"text-align: right;\">\n",
              "      <th></th>\n",
              "      <th>id</th>\n",
              "      <th>lon</th>\n",
              "      <th>lat</th>\n",
              "      <th>year</th>\n",
              "      <th>month</th>\n",
              "      <th>day</th>\n",
              "      <th>time</th>\n",
              "      <th>hPa</th>\n",
              "      <th>Medcrosser</th>\n",
              "    </tr>\n",
              "  </thead>\n",
              "  <tbody>\n",
              "    <tr>\n",
              "      <th>0</th>\n",
              "      <td>1</td>\n",
              "      <td>-17.750</td>\n",
              "      <td>48.120</td>\n",
              "      <td>1979</td>\n",
              "      <td>1</td>\n",
              "      <td>3</td>\n",
              "      <td>1</td>\n",
              "      <td>995.45</td>\n",
              "      <td>False</td>\n",
              "    </tr>\n",
              "    <tr>\n",
              "      <th>1</th>\n",
              "      <td>1</td>\n",
              "      <td>-17.447</td>\n",
              "      <td>48.163</td>\n",
              "      <td>1979</td>\n",
              "      <td>1</td>\n",
              "      <td>3</td>\n",
              "      <td>2</td>\n",
              "      <td>993.78</td>\n",
              "      <td>False</td>\n",
              "    </tr>\n",
              "    <tr>\n",
              "      <th>2</th>\n",
              "      <td>1</td>\n",
              "      <td>-16.979</td>\n",
              "      <td>48.143</td>\n",
              "      <td>1979</td>\n",
              "      <td>1</td>\n",
              "      <td>3</td>\n",
              "      <td>3</td>\n",
              "      <td>992.60</td>\n",
              "      <td>False</td>\n",
              "    </tr>\n",
              "    <tr>\n",
              "      <th>3</th>\n",
              "      <td>1</td>\n",
              "      <td>-16.344</td>\n",
              "      <td>48.078</td>\n",
              "      <td>1979</td>\n",
              "      <td>1</td>\n",
              "      <td>3</td>\n",
              "      <td>4</td>\n",
              "      <td>991.93</td>\n",
              "      <td>False</td>\n",
              "    </tr>\n",
              "    <tr>\n",
              "      <th>4</th>\n",
              "      <td>1</td>\n",
              "      <td>-15.679</td>\n",
              "      <td>48.031</td>\n",
              "      <td>1979</td>\n",
              "      <td>1</td>\n",
              "      <td>3</td>\n",
              "      <td>5</td>\n",
              "      <td>990.32</td>\n",
              "      <td>False</td>\n",
              "    </tr>\n",
              "  </tbody>\n",
              "</table>\n",
              "</div>"
            ],
            "text/plain": [
              "   id     lon     lat  year  month  day  time     hPa  Medcrosser\n",
              "0   1 -17.750  48.120  1979      1    3     1  995.45       False\n",
              "1   1 -17.447  48.163  1979      1    3     2  993.78       False\n",
              "2   1 -16.979  48.143  1979      1    3     3  992.60       False\n",
              "3   1 -16.344  48.078  1979      1    3     4  991.93       False\n",
              "4   1 -15.679  48.031  1979      1    3     5  990.32       False"
            ]
          },
          "execution_count": 24,
          "metadata": {},
          "output_type": "execute_result"
        }
      ],
      "source": [
        "df_tracks_infoMedcrossers.head()"
      ]
    },
    {
      "cell_type": "code",
      "execution_count": 26,
      "id": "90c3bcbf-2754-446b-9761-55ffdd11d6cf",
      "metadata": {},
      "outputs": [
        {
          "data": {
            "application/vnd.microsoft.datawrangler.viewer.v0+json": {
              "columns": [
                {
                  "name": "index",
                  "rawType": "int64",
                  "type": "integer"
                },
                {
                  "name": "id",
                  "rawType": "int64",
                  "type": "integer"
                },
                {
                  "name": "lon",
                  "rawType": "float64",
                  "type": "float"
                },
                {
                  "name": "lat",
                  "rawType": "float64",
                  "type": "float"
                },
                {
                  "name": "year",
                  "rawType": "int64",
                  "type": "integer"
                },
                {
                  "name": "month",
                  "rawType": "int64",
                  "type": "integer"
                },
                {
                  "name": "day",
                  "rawType": "int64",
                  "type": "integer"
                },
                {
                  "name": "time",
                  "rawType": "int64",
                  "type": "integer"
                },
                {
                  "name": "hPa",
                  "rawType": "float64",
                  "type": "float"
                }
              ],
              "ref": "72ad1a11-a1cc-42b7-908d-ba131d47fbe3",
              "rows": [
                [
                  "229",
                  "4",
                  "0.96",
                  "40.7",
                  "1979",
                  "1",
                  "8",
                  "18",
                  "1016.93"
                ],
                [
                  "230",
                  "4",
                  "1.08",
                  "40.761",
                  "1979",
                  "1",
                  "8",
                  "19",
                  "1016.93"
                ],
                [
                  "231",
                  "4",
                  "1.3",
                  "40.746",
                  "1979",
                  "1",
                  "8",
                  "20",
                  "1016.64"
                ],
                [
                  "232",
                  "4",
                  "1.624",
                  "40.699",
                  "1979",
                  "1",
                  "8",
                  "21",
                  "1016.35"
                ],
                [
                  "233",
                  "4",
                  "1.986",
                  "40.693",
                  "1979",
                  "1",
                  "8",
                  "22",
                  "1015.86"
                ]
              ],
              "shape": {
                "columns": 8,
                "rows": 5
              }
            },
            "text/html": [
              "<div>\n",
              "<style scoped>\n",
              "    .dataframe tbody tr th:only-of-type {\n",
              "        vertical-align: middle;\n",
              "    }\n",
              "\n",
              "    .dataframe tbody tr th {\n",
              "        vertical-align: top;\n",
              "    }\n",
              "\n",
              "    .dataframe thead th {\n",
              "        text-align: right;\n",
              "    }\n",
              "</style>\n",
              "<table border=\"1\" class=\"dataframe\">\n",
              "  <thead>\n",
              "    <tr style=\"text-align: right;\">\n",
              "      <th></th>\n",
              "      <th>id</th>\n",
              "      <th>lon</th>\n",
              "      <th>lat</th>\n",
              "      <th>year</th>\n",
              "      <th>month</th>\n",
              "      <th>day</th>\n",
              "      <th>time</th>\n",
              "      <th>hPa</th>\n",
              "    </tr>\n",
              "  </thead>\n",
              "  <tbody>\n",
              "    <tr>\n",
              "      <th>229</th>\n",
              "      <td>4</td>\n",
              "      <td>0.960</td>\n",
              "      <td>40.700</td>\n",
              "      <td>1979</td>\n",
              "      <td>1</td>\n",
              "      <td>8</td>\n",
              "      <td>18</td>\n",
              "      <td>1016.93</td>\n",
              "    </tr>\n",
              "    <tr>\n",
              "      <th>230</th>\n",
              "      <td>4</td>\n",
              "      <td>1.080</td>\n",
              "      <td>40.761</td>\n",
              "      <td>1979</td>\n",
              "      <td>1</td>\n",
              "      <td>8</td>\n",
              "      <td>19</td>\n",
              "      <td>1016.93</td>\n",
              "    </tr>\n",
              "    <tr>\n",
              "      <th>231</th>\n",
              "      <td>4</td>\n",
              "      <td>1.300</td>\n",
              "      <td>40.746</td>\n",
              "      <td>1979</td>\n",
              "      <td>1</td>\n",
              "      <td>8</td>\n",
              "      <td>20</td>\n",
              "      <td>1016.64</td>\n",
              "    </tr>\n",
              "    <tr>\n",
              "      <th>232</th>\n",
              "      <td>4</td>\n",
              "      <td>1.624</td>\n",
              "      <td>40.699</td>\n",
              "      <td>1979</td>\n",
              "      <td>1</td>\n",
              "      <td>8</td>\n",
              "      <td>21</td>\n",
              "      <td>1016.35</td>\n",
              "    </tr>\n",
              "    <tr>\n",
              "      <th>233</th>\n",
              "      <td>4</td>\n",
              "      <td>1.986</td>\n",
              "      <td>40.693</td>\n",
              "      <td>1979</td>\n",
              "      <td>1</td>\n",
              "      <td>8</td>\n",
              "      <td>22</td>\n",
              "      <td>1015.86</td>\n",
              "    </tr>\n",
              "  </tbody>\n",
              "</table>\n",
              "</div>"
            ],
            "text/plain": [
              "     id    lon     lat  year  month  day  time      hPa\n",
              "229   4  0.960  40.700  1979      1    8    18  1016.93\n",
              "230   4  1.080  40.761  1979      1    8    19  1016.93\n",
              "231   4  1.300  40.746  1979      1    8    20  1016.64\n",
              "232   4  1.624  40.699  1979      1    8    21  1016.35\n",
              "233   4  1.986  40.693  1979      1    8    22  1015.86"
            ]
          },
          "execution_count": 26,
          "metadata": {},
          "output_type": "execute_result"
        }
      ],
      "source": [
        "df_tracks_onlyMedcrossers.head()"
      ]
    }
  ],
  "metadata": {
    "kernelspec": {
      "display_name": "myenv",
      "language": "python",
      "name": "python3"
    },
    "language_info": {
      "codemirror_mode": {
        "name": "ipython",
        "version": 3
      },
      "file_extension": ".py",
      "mimetype": "text/x-python",
      "name": "python",
      "nbconvert_exporter": "python",
      "pygments_lexer": "ipython3",
      "version": "3.10.6"
    }
  },
  "nbformat": 4,
  "nbformat_minor": 5
}
