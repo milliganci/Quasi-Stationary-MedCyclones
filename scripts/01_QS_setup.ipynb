{
  "cells": [
    {
      "cell_type": "markdown",
      "id": "9c6a629a-e247-4e0a-a1d7-5d45a65fcc7d",
      "metadata": {},
      "source": [
        "# Load and Modify MedCyclone Dataset\n",
        "Upload your MedCyclone dataset and define the temporal and spatial extent of your analysis. \n",
        "Filter the cyclone tracks crossing at least one grid point corresponding to the Mediterranean Sea and Black Sea (henceforth **Mediterranean basin**).\n",
        "\n",
        "### Original Dataset\n",
        "- df_tracks_in = input MedCyclone dataset. One of the datasets created and described in [Flaounas et al. (2023)](https://wcd.copernicus.org/articles/4/639/2023/). As an example, we take TRACKS_CL5 consisting of 3808 cyclone tracks spending at least 24h in the Mediterranean region, tracked with confidence level 5 (see details in paper).\n",
        "\n",
        "### Generated Dataset:\n",
        "- *df_tracks_infoMedcrossers* = df_tracks_in with desired time and ID filtering + one additional column with info about if each cyclone is a \"Medcrosser\". This informs whether or not a cyclone (ID) crosses the Mediterranean basin (TRUE/FALSE). Can be used as a filter for heat lows over North Africa.\n",
        "\n",
        "- *df_tracks_onlyMedcrossers* = df_tracks_in with desired time, ID and Medcrosser filtering. It consists of only the cyclones that cross the Mediterranean basin (column \"Medcrosser\" == TRUE)."
      ]
    },
    {
      "cell_type": "code",
      "execution_count": 11,
      "id": "13db3458-57ea-4ca4-a37c-3494e3c64d39",
      "metadata": {
        "trusted": true
      },
      "outputs": [],
      "source": [
        "# Load python packages\n",
        "import numpy as np\n",
        "from scipy.io import savemat\n",
        "import xarray as xr\n",
        "\n",
        "import QS_functions as QSfunct"
      ]
    },
    {
      "cell_type": "code",
      "execution_count": 12,
      "id": "c6cf6366",
      "metadata": {},
      "outputs": [],
      "source": [
        "# Directories\n",
        "data_dir = \"../data/\"\n",
        "output_dir = \"../output/\"\n",
        "# Input track file\n",
        "input_file = \"TRACKS_CL5.dat\""
      ]
    },
    {
      "cell_type": "code",
      "execution_count": null,
      "id": "4d1f9c80-c3b7-4224-a86b-0f25c8d87cc9",
      "metadata": {
        "trusted": true
      },
      "outputs": [],
      "source": [
        "# Selection storm IDs, year range, months and time frequency\n",
        "id_storm = 0 # all storms\n",
        "year_range = [1979,2020] # [start_year, end_year]... available from 1979 to 2020\n",
        "months = [] # if [] then all months, otherwise e.g. ['1','2'] for January and February\n",
        "t_int = 1         # time interval (in t_int_u). The stationarity definitions are tuned to 1 hour time intervals.\n",
        "t_int_u = 'h'\n",
        "\n",
        "# Construct time array\n",
        "t_start =  str(year_range[0])+'-01-01T00'\n",
        "t_end = str(year_range[1]+1)+'-01-01'\n",
        "t_last = np.array(t_end, dtype='datetime64') - np.timedelta64(t_int, t_int_u)\n",
        "t_last = str(t_last)[:10] \n",
        "var_time = QSfunct.timerange_datetime(t_start,t_end,t_int,t_int_u, months)"
      ]
    },
    {
      "cell_type": "code",
      "execution_count": 14,
      "id": "069f6ef2-eda8-4292-8241-542cc1fa80df",
      "metadata": {
        "trusted": true
      },
      "outputs": [],
      "source": [
        "# Open track dataset\n",
        "df_tracks_in = QSfunct.open_tracks_flaounas(path_name=data_dir+input_file)\n",
        "# Define df_tracks_in column names\n",
        "df_tracks_in.columns = ['id','lon','lat','year','month','day','time','hPa']\n",
        "\n",
        "# Storm selection, by ID and time range/frequency\n",
        "df_tracks_sel = QSfunct.get_storms_sometime(df_tracks_in, id_storm, var_time)\n",
        "\n",
        "# Make variable time array\n",
        "time_tracks_sel = QSfunct.make_var_time(df_tracks_sel) # same as var_time but with time steps in the dataset"
      ]
    },
    {
      "cell_type": "code",
      "execution_count": 15,
      "id": "77ed6595",
      "metadata": {},
      "outputs": [
        {
          "name": "stdout",
          "output_type": "stream",
          "text": [
            "   id     lon     lat  year  month  day  time     hPa\n",
            "0   1 -17.750  48.120  1979      1    3     1  995.45\n",
            "1   1 -17.447  48.163  1979      1    3     2  993.78\n",
            "2   1 -16.979  48.143  1979      1    3     3  992.60\n",
            "3   1 -16.344  48.078  1979      1    3     4  991.93\n",
            "4   1 -15.679  48.031  1979      1    3     5  990.32\n"
          ]
        }
      ],
      "source": [
        "print(df_tracks_sel.head())"
      ]
    },
    {
      "cell_type": "markdown",
      "id": "798d7f12-1db4-4182-9784-d7fff0d349ae",
      "metadata": {},
      "source": [
        "# How to Filter Heat Lows from df_tracks_sel?\n",
        "\n",
        "Select IDs of MedCyclone tracks crossing the Mediterranean basin in at least one time instance. \n",
        "1. Sea mask: define crossing area (Mediterranean basin)\n",
        "2. Find nearest neighbour for each coordinate of a cyclone path and define new coordinates in grid of sea mask\n",
        "3. Check for each cyclone in df_tracks_sel if they cross Mediterranean basin (Medcrosser=TRUE) or not (Medcrosser=FALSE)\n",
        "4. Save datasets with Medcrosser info"
      ]
    },
    {
      "cell_type": "markdown",
      "id": "b29e86e8-e8c9-4a7e-a717-451bf5baee33",
      "metadata": {},
      "source": [
        "### 1. Sea Mask\n",
        "Upload land-sea mask and define area of interest (Mediterranean basin)"
      ]
    },
    {
      "cell_type": "code",
      "execution_count": 19,
      "id": "32507bd5-1af1-4efd-bca0-3e90bb7fa5cd",
      "metadata": {},
      "outputs": [
        {
          "data": {
            "text/plain": [
              "<matplotlib.collections.QuadMesh at 0x7d4b59580a90>"
            ]
          },
          "execution_count": 19,
          "metadata": {},
          "output_type": "execute_result"
        },
        {
          "data": {
            "image/png": "[encoded data removed]",
            "text/plain": [
              "<Figure size 640x480 with 2 Axes>"
            ]
          },
          "metadata": {},
          "output_type": "display_data"
        }
      ],
      "source": [
        "# Load land-sea mask\n",
        "ds_s = xr.open_dataset(data_dir+'land_sea_mask.nc', engine=\"netcdf4\")\n",
        "\n",
        "# Round values in dataset to nearest integer (so there are only 0/1)\n",
        "ds_s['lsm'].values = np.round(ds_s['lsm'].values, 0)\n",
        "\n",
        "# Exchange 0 and 1 (so that sea=1, land=0)\n",
        "ds_s['lsm'].values = np.where(ds_s['lsm'].values == 1, 0, 1)\n",
        "\n",
        "# # Plot land-sea mask\n",
        "# ds_s['lsm'].plot()\n",
        "\n",
        "# Define area of interest\n",
        "sea_mask_in = ds_s['lsm']\n",
        "sea_mask_e = sea_mask_in.where((sea_mask_in.lat<=48)&(sea_mask_in.lat>=30)&(sea_mask_in.lon<=42)&(sea_mask_in.lon>=-6),0)\n",
        "sea_mask = sea_mask_e.where(((sea_mask_e.lat<=43)|(sea_mask_e.lon>=0)),0)\n",
        "\n",
        "# Plot final sea points\n",
        "sea_mask.plot()"
      ]
    },
    {
      "cell_type": "markdown",
      "id": "5cb87604-4de0-4d01-8a90-a1b8778bd5c4",
      "metadata": {},
      "source": [
        "### 2. Nearest Neighbour\n",
        "Assign to each coordinate of a cyclone's track it's nearest neighbouring gridpoint (from the sea mask)"
      ]
    },
    {
      "cell_type": "code",
      "execution_count": 20,
      "id": "aa8fda16-2b43-4e77-9892-c45ba61b7001",
      "metadata": {},
      "outputs": [],
      "source": [
        "# Definitions\n",
        "# Grid sea_mask (dimensions)\n",
        "lon = np.array(sea_mask.lon)\n",
        "lat = np.array(sea_mask.lat)\n",
        "grid = np.array(list(zip(lon,lat)))"
      ]
    },
    {
      "cell_type": "code",
      "execution_count": 21,
      "id": "8a625612",
      "metadata": {},
      "outputs": [
        {
          "data": {
            "text/plain": [
              "[1,\n",
              " (-17.75, 48.0),\n",
              " (-17.5, 48.25),\n",
              " (-17.0, 48.25),\n",
              " (-16.25, 48.0),\n",
              " (-15.75, 48.0),\n",
              " (-15.0, 48.0),\n",
              " (-14.75, 48.0),\n",
              " (-14.25, 48.25),\n",
              " (-14.0, 48.25),\n",
              " (-14.0, 48.25),\n",
              " (-13.75, 48.25),\n",
              " (-13.75, 48.0),\n",
              " (-13.5, 47.75),\n",
              " (-13.0, 47.5),\n",
              " (-12.5, 47.25),\n",
              " (-11.75, 47.0),\n",
              " (-11.0, 46.75),\n",
              " (-10.0, 46.75),\n",
              " (-9.25, 46.75),\n",
              " (-8.5, 46.75),\n",
              " (-8.0, 46.75),\n",
              " (-7.5, 46.75),\n",
              " (-6.75, 46.75),\n",
              " (-6.5, 46.75),\n",
              " (-6.0, 46.75),\n",
              " (-5.5, 46.75),\n",
              " (-5.0, 46.75),\n",
              " (-4.75, 47.0),\n",
              " (-4.25, 47.0),\n",
              " (-4.0, 47.0),\n",
              " (-3.75, 47.0),\n",
              " (-3.5, 47.0),\n",
              " (-3.25, 46.75),\n",
              " (-3.0, 46.75),\n",
              " (-2.5, 46.75),\n",
              " (-2.25, 46.75),\n",
              " (-2.0, 47.0),\n",
              " (-2.0, 47.0),\n",
              " (-1.75, 47.0),\n",
              " (-1.5, 47.25),\n",
              " (-1.5, 47.25),\n",
              " (-1.5, 47.25),\n",
              " (-1.5, 47.5),\n",
              " (-1.5, 47.5),\n",
              " (-1.75, 47.5),\n",
              " (-2.0, 47.5),\n",
              " (-2.25, 47.25),\n",
              " (-2.5, 47.25),\n",
              " (-2.75, 47.25),\n",
              " (-3.0, 47.0),\n",
              " (-3.0, 47.0),\n",
              " (-3.25, 46.75),\n",
              " (-3.5, 46.75),\n",
              " (-3.75, 46.5),\n",
              " (-3.75, 46.5),\n",
              " (-4.0, 46.25),\n",
              " (-4.0, 46.25),\n",
              " (-4.25, 46.0),\n",
              " (-4.5, 46.0),\n",
              " (-4.75, 46.0),\n",
              " (-5.25, 45.75)]"
            ]
          },
          "execution_count": 21,
          "metadata": {},
          "output_type": "execute_result"
        }
      ],
      "source": [
        "# FIND_NEAREST_INDEX: All points df_tracks_sel\n",
        "# Loop id-wise\n",
        "list_coord = []                                                         # create list of ids and coords\n",
        "\n",
        "for id_track in df_tracks_sel['id'].unique():                              # for each unique id in df_tracks_sel\n",
        "    track = df_tracks_sel[df_tracks_sel['id'] == id_track]                    # select track with id_track\n",
        "    coords = []\n",
        "    for _, row in track.iterrows():                                     # for each row[1] (lon), row[2] (lat) point in the track\n",
        "        ix, iy = QSfunct.find_nearest_index(lon, lat, row[1], row[2])        # find nearest index in lon, lat\n",
        "        coords.append((lon[ix], lat[iy]))\n",
        "    list_coord.append([id_track] + coords)\n",
        "\n",
        "list_coord[0]"
      ]
    },
    {
      "cell_type": "markdown",
      "id": "115b0a3a-4d34-4276-8a7a-b2c900d8081a",
      "metadata": {},
      "source": [
        "### 3. Define Medcrossers\n",
        "- Create a mask for each ID with 1 for track point in Mediterranean basin, 0 for track point outside\n",
        "- Compare each mask with sea_mask and create list of cyclones that cross the Mediterranean basin in at least one time instance (Medcrossers)"
      ]
    },
    {
      "cell_type": "code",
      "execution_count": 22,
      "id": "2cd2a4e8",
      "metadata": {},
      "outputs": [
        {
          "name": "stdout",
          "output_type": "stream",
          "text": [
            "Medcrosser cyclone IDs: [4, 5, 6, 8, 9, 10, 11, 12, 13, 14, 15, 16, 17, 18, 20, 22, 23, 24, 27, 28, 29, 30, 31, 34, 35, 40, 42, 46, 49, 50, 53, 54, 55, 58, 60, 61, 62, 68, 69, 70, 71, 72, 73, 74, 75, 76, 78, 79, 80, 81, 82, 84, 85, 86, 87, 88, 90, 91, 93, 94, 95, 97, 101, 102, 104, 105, 106, 107, 108, 112, 113, 115, 116, 117, 118, 119, 121, 123, 125, 127, 128, 129, 130, 131, 133, 134, 135, 137, 138, 139, 149, 151, 153, 154, 159, 160, 161, 163, 164, 165, 166, 167, 168, 170, 171, 172, 173, 175, 176, 178, 179, 180, 181, 182, 183, 184, 186, 187, 188, 189, 190, 191, 192, 193, 194, 195, 196, 198, 199, 200, 203, 204, 205, 206, 207, 208, 211, 213, 216, 217, 218, 219, 223, 225, 226, 227, 229, 231, 232, 236, 239, 240, 241, 244, 246, 249, 250, 251, 255, 256, 257, 258, 259, 260, 261, 263, 265, 266, 268, 269, 272, 273, 274, 275, 276, 277, 278, 279, 280, 281, 282, 283, 284, 285, 286, 287, 288, 289, 290, 292, 293, 294, 295, 297, 300, 301, 302, 303, 304, 306, 309, 311, 315, 316, 317, 318, 320, 323, 324, 327, 328, 329, 331, 332, 333, 335, 336, 337, 339, 340, 341, 342, 343, 344, 345, 346, 348, 349, 350, 351, 353, 354, 355, 357, 358, 359, 360, 362, 364, 365, 366, 367, 370, 374, 377, 381, 385, 386, 388, 390, 391, 393, 394, 398, 399, 401, 404, 406, 407, 408, 409, 411, 412, 413, 416, 418, 419, 420, 422, 423, 424, 426, 427, 429, 431, 433, 434, 435, 436, 437, 438, 440, 441, 442, 443, 444, 445, 446, 447, 448, 449, 450, 452, 453, 454, 456, 457, 458, 459, 460, 461, 463, 465, 466, 468, 470, 475, 476, 481, 482, 485, 486, 487, 488, 491, 492, 494, 496, 497, 498, 500, 501, 502, 504, 505, 507, 508, 510, 511, 512, 513, 514, 515, 517, 518, 520, 522, 524, 525, 526, 528, 529, 530, 531, 533, 534, 535, 536, 537, 538, 542, 543, 544, 545, 547, 548, 549, 552, 553, 556, 557, 559, 561, 562, 564, 565, 566, 567, 568, 569, 570, 572, 573, 574, 575, 576, 577, 578, 580, 582, 584, 585, 586, 589, 590, 591, 592, 594, 595, 596, 597, 598, 599, 601, 602, 603, 604, 606, 609, 610, 611, 614, 617, 618, 619, 621, 627, 628, 629, 630, 631, 632, 633, 636, 638, 639, 646, 647, 649, 651, 652, 659, 663, 665, 666, 667, 668, 669, 672, 673, 674, 676, 678, 680, 681, 682, 683, 684, 685, 686, 687, 688, 689, 690, 691, 692, 693, 694, 696, 697, 698, 700, 702, 703, 704, 706, 707, 708, 709, 710, 713, 714, 716, 719, 720, 721, 724, 727, 730, 731, 732, 734, 735, 740, 744, 748, 749, 750, 753, 755, 759, 761, 762, 763, 764, 765, 766, 768, 769, 770, 771, 772, 773, 774, 775, 776, 777, 778, 779, 780, 781, 786, 787, 788, 789, 790, 791, 792, 793, 794, 795, 796, 797, 798, 799, 802, 806, 807, 812, 814, 816, 818, 819, 820, 823, 825, 829, 833, 834, 835, 836, 837, 838, 841, 842, 845, 846, 847, 848, 849, 853, 854, 855, 857, 859, 860, 861, 862, 863, 864, 865, 866, 868, 869, 872, 873, 876, 877, 878, 880, 881, 886, 887, 896, 900, 901, 902, 906, 907, 908, 910, 914, 915, 918, 919, 920, 921, 922, 923, 924, 925, 926, 927, 930, 932, 933, 937, 938, 939, 941, 942, 943, 945, 946, 947, 948, 949, 950, 952, 953, 954, 956, 957, 958, 959, 960, 962, 965, 968, 969, 971, 975, 976, 977, 978, 979, 985, 988, 993, 995, 997, 1000, 1002, 1003, 1005, 1007, 1008, 1009, 1012, 1015, 1016, 1017, 1018, 1019, 1020, 1021, 1022, 1024, 1025, 1027, 1028, 1029, 1030, 1031, 1033, 1034, 1035, 1038, 1039, 1040, 1041, 1042, 1044, 1045, 1047, 1049, 1050, 1054, 1057, 1058, 1063, 1065, 1067, 1068, 1070, 1071, 1072, 1073, 1074, 1075, 1079, 1081, 1082, 1083, 1085, 1087, 1089, 1090, 1093, 1097, 1098, 1100, 1104, 1108, 1112, 1116, 1117, 1119, 1123, 1124, 1126, 1127, 1128, 1129, 1130, 1131, 1132, 1133, 1134, 1135, 1136, 1139, 1140, 1141, 1142, 1144, 1145, 1146, 1147, 1148, 1150, 1151, 1152, 1155, 1156, 1157, 1158, 1159, 1160, 1161, 1162, 1163, 1164, 1165, 1166, 1167, 1170, 1172, 1173, 1174, 1175, 1178, 1179, 1180, 1182, 1183, 1185, 1187, 1189, 1190, 1191, 1194, 1196, 1198, 1199, 1200, 1202, 1203, 1205, 1208, 1209, 1211, 1212, 1214, 1216, 1218, 1219, 1220, 1221, 1222, 1223, 1224, 1225, 1226, 1229, 1230, 1231, 1233, 1234, 1235, 1236, 1238, 1239, 1241, 1242, 1244, 1245, 1246, 1247, 1249, 1250, 1251, 1252, 1255, 1259, 1261, 1263, 1267, 1268, 1269, 1274, 1276, 1277, 1278, 1284, 1287, 1288, 1290, 1291, 1293, 1294, 1300, 1301, 1302, 1304, 1306, 1308, 1309, 1310, 1311, 1312, 1313, 1315, 1316, 1317, 1321, 1322, 1323, 1324, 1325, 1327, 1328, 1330, 1331, 1332, 1333, 1334, 1335, 1336, 1337, 1338, 1340, 1341, 1344, 1348, 1350, 1351, 1352, 1354, 1355, 1357, 1358, 1360, 1363, 1364, 1365, 1370, 1371, 1372, 1373, 1378, 1381, 1383, 1385, 1386, 1388, 1391, 1392, 1393, 1394, 1395, 1396, 1397, 1398, 1399, 1401, 1402, 1403, 1404, 1405, 1406, 1407, 1408, 1409, 1410, 1411, 1412, 1414, 1415, 1416, 1418, 1419, 1420, 1421, 1422, 1423, 1424, 1425, 1426, 1427, 1428, 1430, 1431, 1432, 1433, 1434, 1435, 1440, 1443, 1444, 1445, 1446, 1449, 1451, 1457, 1459, 1460, 1462, 1464, 1465, 1470, 1471, 1474, 1475, 1476, 1478, 1479, 1481, 1483, 1484, 1486, 1488, 1489, 1490, 1491, 1492, 1493, 1494, 1495, 1496, 1499, 1500, 1502, 1503, 1506, 1508, 1510, 1511, 1512, 1513, 1514, 1515, 1517, 1518, 1519, 1520, 1521, 1524, 1525, 1526, 1527, 1529, 1533, 1534, 1535, 1537, 1539, 1540, 1542, 1543, 1545, 1546, 1548, 1549, 1552, 1553, 1561, 1564, 1565, 1566, 1568, 1569, 1572, 1573, 1576, 1577, 1578, 1579, 1580, 1582, 1583, 1584, 1585, 1587, 1588, 1589, 1590, 1592, 1593, 1594, 1596, 1597, 1598, 1599, 1602, 1603, 1605, 1606, 1610, 1611, 1612, 1613, 1614, 1615, 1616, 1617, 1618, 1619, 1621, 1623, 1626, 1627, 1634, 1636, 1637, 1639, 1640, 1641, 1644, 1648, 1653, 1657, 1660, 1661, 1662, 1663, 1665, 1667, 1668, 1670, 1671, 1672, 1673, 1674, 1677, 1678, 1679, 1680, 1682, 1683, 1684, 1685, 1686, 1688, 1689, 1690, 1691, 1693, 1694, 1696, 1698, 1699, 1700, 1702, 1703, 1704, 1705, 1706, 1707, 1708, 1709, 1710, 1711, 1712, 1715, 1718, 1719, 1720, 1721, 1726, 1729, 1733, 1734, 1737, 1738, 1739, 1740, 1741, 1743, 1745, 1748, 1750, 1752, 1753, 1754, 1756, 1757, 1758, 1759, 1760, 1762, 1763, 1764, 1765, 1766, 1767, 1768, 1769, 1770, 1771, 1772, 1773, 1774, 1775, 1777, 1778, 1781, 1782, 1784, 1785, 1786, 1787, 1789, 1790, 1795, 1800, 1804, 1806, 1810, 1813, 1816, 1817, 1820, 1821, 1822, 1823, 1824, 1826, 1827, 1832, 1833, 1834, 1835, 1836, 1837, 1839, 1841, 1842, 1844, 1845, 1848, 1849, 1850, 1852, 1853, 1854, 1855, 1856, 1857, 1858, 1862, 1863, 1864, 1866, 1868, 1870, 1871, 1872, 1874, 1875, 1876, 1878, 1886, 1887, 1888, 1889, 1895, 1897, 1898, 1904, 1905, 1906, 1909, 1910, 1911, 1913, 1914, 1916, 1917, 1918, 1919, 1920, 1924, 1925, 1926, 1927, 1928, 1929, 1930, 1932, 1935, 1937, 1938, 1939, 1940, 1942, 1944, 1945, 1948, 1949, 1950, 1951, 1952, 1953, 1954, 1955, 1956, 1958, 1960, 1961, 1963, 1964, 1965, 1966, 1969, 1971, 1972, 1973, 1976, 1977, 1980, 1983, 1985, 1987, 1990, 1992, 1993, 1994, 1995, 1998, 1999, 2002, 2003, 2005, 2006, 2007, 2008, 2009, 2010, 2011, 2012, 2013, 2014, 2015, 2016, 2017, 2018, 2020, 2021, 2023, 2024, 2025, 2026, 2027, 2028, 2029, 2030, 2032, 2034, 2036, 2038, 2039, 2043, 2044, 2045, 2046, 2047, 2048, 2050, 2051, 2055, 2056, 2057, 2058, 2062, 2063, 2065, 2067, 2068, 2069, 2071, 2072, 2077, 2079, 2081, 2082, 2084, 2087, 2090, 2091, 2092, 2097, 2098, 2099, 2101, 2102, 2103, 2104, 2105, 2106, 2107, 2108, 2109, 2110, 2112, 2113, 2114, 2115, 2116, 2117, 2119, 2120, 2121, 2122, 2123, 2124, 2125, 2126, 2128, 2129, 2130, 2131, 2132, 2133, 2134, 2135, 2136, 2137, 2140, 2141, 2143, 2144, 2145, 2147, 2150, 2151, 2156, 2157, 2158, 2159, 2160, 2164, 2167, 2169, 2174, 2176, 2177, 2181, 2183, 2185, 2188, 2197, 2199, 2200, 2202, 2204, 2205, 2208, 2209, 2211, 2214, 2215, 2216, 2218, 2220, 2221, 2222, 2223, 2224, 2226, 2227, 2228, 2230, 2231, 2232, 2233, 2235, 2236, 2237, 2238, 2239, 2241, 2242, 2243, 2247, 2248, 2249, 2252, 2253, 2255, 2256, 2257, 2258, 2260, 2263, 2264, 2265, 2266, 2268, 2269, 2270, 2274, 2276, 2277, 2280, 2281, 2283, 2284, 2285, 2286, 2288, 2290, 2295, 2297, 2300, 2301, 2305, 2307, 2309, 2310, 2311, 2313, 2314, 2315, 2318, 2319, 2320, 2321, 2322, 2323, 2324, 2327, 2329, 2331, 2332, 2333, 2334, 2335, 2336, 2339, 2341, 2343, 2345, 2346, 2349, 2351, 2352, 2353, 2355, 2357, 2358, 2359, 2360, 2361, 2364, 2365, 2366, 2367, 2370, 2371, 2372, 2377, 2379, 2380, 2383, 2384, 2386, 2387, 2390, 2391, 2392, 2393, 2395, 2396, 2397, 2398, 2399, 2400, 2401, 2403, 2404, 2406, 2407, 2408, 2409, 2411, 2413, 2415, 2416, 2417, 2418, 2419, 2420, 2421, 2423, 2424, 2426, 2427, 2429, 2430, 2431, 2432, 2433, 2434, 2436, 2437, 2438, 2440, 2441, 2442, 2443, 2444, 2445, 2447, 2448, 2450, 2451, 2453, 2456, 2457, 2459, 2461, 2462, 2463, 2464, 2465, 2466, 2467, 2468, 2469, 2475, 2476, 2479, 2484, 2486, 2488, 2489, 2492, 2493, 2496, 2499, 2500, 2501, 2502, 2503, 2504, 2505, 2506, 2507, 2508, 2509, 2510, 2511, 2514, 2515, 2516, 2519, 2520, 2521, 2522, 2523, 2524, 2525, 2526, 2528, 2529, 2530, 2531, 2532, 2535, 2537, 2538, 2539, 2541, 2542, 2543, 2545, 2547, 2548, 2550, 2552, 2554, 2556, 2557, 2561, 2566, 2569, 2570, 2571, 2572, 2573, 2575, 2576, 2577, 2579, 2580, 2582, 2583, 2584, 2585, 2586, 2589, 2590, 2591, 2593, 2595, 2596, 2597, 2599, 2600, 2601, 2602, 2603, 2604, 2605, 2606, 2611, 2613, 2618, 2619, 2620, 2621, 2622, 2626, 2628, 2632, 2634, 2635, 2636, 2638, 2639, 2645, 2652, 2657, 2658, 2659, 2661, 2662, 2663, 2665, 2666, 2668, 2669, 2670, 2671, 2673, 2674, 2676, 2677, 2678, 2679, 2680, 2682, 2685, 2686, 2687, 2688, 2689, 2690, 2691, 2692, 2693, 2697, 2698, 2699, 2701, 2702, 2703, 2704, 2705, 2706, 2707, 2708, 2709, 2710, 2711, 2712, 2713, 2714, 2715, 2716, 2717, 2721, 2722, 2723, 2724, 2725, 2726, 2727, 2728, 2729, 2730, 2731, 2733, 2734, 2737, 2738, 2739, 2740, 2741, 2742, 2745, 2747, 2751, 2753, 2754, 2759, 2764, 2765, 2766, 2770, 2771, 2773, 2774, 2775, 2776, 2777, 2778, 2779, 2780, 2781, 2782, 2783, 2784, 2785, 2787, 2789, 2792, 2793, 2794, 2795, 2796, 2797, 2798, 2799, 2800, 2801, 2802, 2803, 2805, 2806, 2809, 2812, 2813, 2814, 2815, 2816, 2818, 2819, 2820, 2821, 2822, 2827, 2830, 2831, 2832, 2833, 2835, 2836, 2838, 2841, 2847, 2848, 2850, 2851, 2852, 2853, 2854, 2858, 2865, 2866, 2867, 2868, 2869, 2870, 2873, 2874, 2876, 2877, 2879, 2880, 2881, 2882, 2884, 2887, 2889, 2890, 2891, 2892, 2894, 2896, 2897, 2898, 2899, 2900, 2901, 2903, 2904, 2906, 2907, 2908, 2910, 2911, 2913, 2914, 2915, 2917, 2918, 2920, 2923, 2925, 2927, 2929, 2932, 2933, 2934, 2935, 2937, 2940, 2943, 2944, 2945, 2947, 2948, 2958, 2959, 2960, 2961, 2963, 2964, 2966, 2967, 2968, 2969, 2970, 2972, 2973, 2974, 2975, 2976, 2977, 2979, 2980, 2981, 2982, 2983, 2984, 2985, 2988, 2989, 2991, 2992, 2993, 2994, 2995, 2996, 2997, 2999, 3000, 3001, 3002, 3004, 3005, 3006, 3007, 3011, 3013, 3014, 3015, 3016, 3017, 3019, 3023, 3026, 3028, 3029, 3031, 3035, 3037, 3039, 3040, 3041, 3045, 3046, 3047, 3048, 3050, 3051, 3052, 3055, 3058, 3059, 3060, 3061, 3062, 3064, 3065, 3066, 3067, 3068, 3069, 3070, 3071, 3072, 3074, 3075, 3076, 3077, 3078, 3079, 3080, 3081, 3082, 3083, 3084, 3085, 3086, 3087, 3088, 3089, 3091, 3093, 3094, 3096, 3099, 3100, 3101, 3103, 3104, 3105, 3107, 3108, 3109, 3111, 3116, 3117, 3119, 3121, 3122, 3124, 3127, 3133, 3136, 3137, 3141, 3142, 3143, 3144, 3145, 3146, 3147, 3149, 3150, 3151, 3152, 3153, 3154, 3155, 3156, 3157, 3158, 3161, 3162, 3164, 3165, 3166, 3167, 3168, 3169, 3170, 3171, 3173, 3174, 3176, 3177, 3178, 3179, 3180, 3181, 3184, 3186, 3187, 3189, 3192, 3194, 3195, 3197, 3198, 3199, 3200, 3203, 3206, 3208, 3210, 3211, 3214, 3216, 3219, 3220, 3223, 3227, 3228, 3229, 3232, 3233, 3235, 3236, 3237, 3239, 3241, 3242, 3243, 3244, 3245, 3247, 3248, 3250, 3251, 3253, 3254, 3255, 3256, 3258, 3259, 3260, 3261, 3262, 3263, 3264, 3266, 3267, 3268, 3269, 3270, 3271, 3272, 3273, 3275, 3276, 3277, 3278, 3279, 3280, 3281, 3282, 3283, 3284, 3285, 3286, 3289, 3290, 3292, 3293, 3294, 3299, 3300, 3302, 3305, 3309, 3311, 3317, 3325, 3327, 3330, 3331, 3332, 3334, 3336, 3338, 3339, 3340, 3341, 3344, 3345, 3346, 3347, 3348, 3349, 3350, 3351, 3352, 3353, 3355, 3356, 3357, 3358, 3359, 3360, 3361, 3362, 3363, 3364, 3365, 3366, 3367, 3368, 3370, 3371, 3372, 3374, 3375, 3378, 3379, 3380, 3382, 3384, 3386, 3388, 3390, 3393, 3395, 3396, 3397, 3398, 3403, 3411, 3412, 3413, 3414, 3415, 3416, 3420, 3421, 3422, 3423, 3426, 3427, 3429, 3430, 3432, 3433, 3434, 3437, 3439, 3440, 3444, 3445, 3447, 3448, 3449, 3451, 3452, 3454, 3455, 3456, 3457, 3458, 3459, 3460, 3461, 3462, 3464, 3465, 3466, 3467, 3469, 3471, 3472, 3473, 3474, 3476, 3477, 3478, 3479, 3481, 3482, 3483, 3486, 3488, 3490, 3496, 3498, 3501, 3502, 3503, 3506, 3507, 3508, 3509, 3511, 3512, 3513, 3514, 3515, 3516, 3517, 3518, 3519, 3520, 3521, 3522, 3523, 3524, 3525, 3526, 3527, 3528, 3529, 3530, 3532, 3533, 3534, 3536, 3539, 3540, 3541, 3542, 3543, 3544, 3545, 3546, 3548, 3551, 3552, 3553, 3554, 3556, 3558, 3559, 3562, 3563, 3567, 3568, 3570, 3572, 3573, 3575, 3576, 3578, 3581, 3585, 3586, 3588, 3590, 3592, 3594, 3597, 3598, 3599, 3600, 3601, 3602, 3604, 3608, 3610, 3613, 3614, 3616, 3617, 3618, 3620, 3621, 3622, 3623, 3624, 3625, 3626, 3627, 3630, 3632, 3633, 3634, 3635, 3636, 3637, 3638, 3639, 3640, 3641, 3642, 3643, 3644, 3645, 3646, 3648, 3651, 3656, 3658, 3661, 3662, 3663, 3665, 3668, 3669, 3670, 3671, 3672, 3673, 3674, 3677, 3680, 3681, 3685, 3689, 3690, 3691, 3692, 3694, 3695, 3696, 3697, 3698, 3699, 3700, 3701, 3702, 3703, 3704, 3706, 3707, 3708, 3710, 3711, 3712, 3713, 3714, 3715, 3716, 3718, 3719, 3720, 3722, 3723, 3725, 3726, 3728, 3729, 3730, 3731, 3733, 3734, 3735, 3738, 3739, 3740, 3742, 3744, 3747, 3749, 3754, 3756, 3757, 3759, 3760, 3761, 3762, 3765, 3766, 3767, 3770, 3773, 3775, 3776, 3777, 3780, 3781, 3782, 3783, 3785, 3787, 3788, 3790, 3791, 3793, 3794, 3796, 3797, 3798, 3799, 3800, 3801, 3802, 3803, 3804, 3805, 3806, 3807]\n"
          ]
        }
      ],
      "source": [
        "# Check if each track has points in common with sea_mask\n",
        "ids_medtracks = []\n",
        "\n",
        "lon_idx_map = {v: i for i, v in enumerate(lon)}\n",
        "lat_idx_map = {v: j for j, v in enumerate(lat)}\n",
        "\n",
        "for inner_list in list_coord:\n",
        "\n",
        "    # Create mask for each track, indicating grid points that are part of the track\n",
        "    id = inner_list[0]\n",
        "    coord_i = inner_list[1:]\n",
        "\n",
        "    mask_i = np.zeros((len(lat), len(lon)), dtype=int)\n",
        "    for x, y in coord_i:\n",
        "        i = lon_idx_map.get(x)\n",
        "        j = lat_idx_map.get(y)\n",
        "        if i is not None and j is not None:\n",
        "            mask_i[j, i] = 1\n",
        "\n",
        "    # Check if the track mask has at least one point in common with sea_mask\n",
        "    mask_cross = mask_i * sea_mask  # Multiply with sea_mask\n",
        "    if np.sum(mask_cross) >= 1:\n",
        "        ids_medtracks.append(id)\n",
        "\n",
        "print(f\"Medcrosser cyclone IDs: {ids_medtracks}\")\n"
      ]
    },
    {
      "cell_type": "markdown",
      "id": "e439e364",
      "metadata": {},
      "source": [
        "### 4. Save Medcrossers\n",
        "- Update df_tracks_sel with Medcrosser information (column \"Medcrossers\", *df_tracks_infoMedcrossers*) and save to mat file\n",
        "- Filter Medcrossers in df_tracks_sel (*df_tracks_onlyMedcrossers*) and save to mat file"
      ]
    },
    {
      "cell_type": "code",
      "execution_count": 23,
      "id": "c0e96f4d-e7e4-4817-9354-b85aec73fd28",
      "metadata": {},
      "outputs": [],
      "source": [
        "# Create new dataframe with df_tracks_sel+medcrosser info (df_tracks_infoMedcrossers)\n",
        "df_tracks_infoMedcrossers = df_tracks_sel.copy()  # Create a copy of df_tracks_sel\n",
        "df_tracks_infoMedcrossers['Medcrosser'] = df_tracks_infoMedcrossers['id'].isin(ids_medtracks)\n",
        "# Save dataset\n",
        "# Convert the DataFrame to a dictionary\n",
        "data_dict = {col: df_tracks_infoMedcrossers[col].values for col in df_tracks_infoMedcrossers.columns}\n",
        "# Save the dictionary as a .mat file\n",
        "savemat(output_dir + input_file[:-4] + '_infoMedcrossers.mat', data_dict)\n",
        "\n",
        "# Create new dataframe selecting only Medcrossers from df_tracks_sel (df_tracks_Medcrossers)\n",
        "df_tracks_onlyMedcrossers = df_tracks_sel[df_tracks_infoMedcrossers['Medcrosser'] == True]\n",
        "# Save dataset\n",
        "# Convert the DataFrame to a dictionary\n",
        "data_dict = {col: df_tracks_onlyMedcrossers[col].values for col in df_tracks_onlyMedcrossers.columns}\n",
        "# Save the dictionary as a .mat file\n",
        "savemat(output_dir + input_file[:-4] + '_onlyMedcrossers.mat', data_dict)"
      ]
    },
    {
      "cell_type": "code",
      "execution_count": 24,
      "id": "bd53679a",
      "metadata": {},
      "outputs": [
        {
          "data": {
            "application/vnd.microsoft.datawrangler.viewer.v0+json": {
              "columns": [
                {
                  "name": "index",
                  "rawType": "int64",
                  "type": "integer"
                },
                {
                  "name": "id",
                  "rawType": "int64",
                  "type": "integer"
                },
                {
                  "name": "lon",
                  "rawType": "float64",
                  "type": "float"
                },
                {
                  "name": "lat",
                  "rawType": "float64",
                  "type": "float"
                },
                {
                  "name": "year",
                  "rawType": "int64",
                  "type": "integer"
                },
                {
                  "name": "month",
                  "rawType": "int64",
                  "type": "integer"
                },
                {
                  "name": "day",
                  "rawType": "int64",
                  "type": "integer"
                },
                {
                  "name": "time",
                  "rawType": "int64",
                  "type": "integer"
                },
                {
                  "name": "hPa",
                  "rawType": "float64",
                  "type": "float"
                },
                {
                  "name": "Medcrosser",
                  "rawType": "bool",
                  "type": "boolean"
                }
              ],
              "ref": "b737352d-b31e-48f8-beeb-4fc24917aa7d",
              "rows": [
                [
                  "0",
                  "1",
                  "-17.75",
                  "48.12",
                  "1979",
                  "1",
                  "3",
                  "1",
                  "995.45",
                  "False"
                ],
                [
                  "1",
                  "1",
                  "-17.447",
                  "48.163",
                  "1979",
                  "1",
                  "3",
                  "2",
                  "993.78",
                  "False"
                ],
                [
                  "2",
                  "1",
                  "-16.979",
                  "48.143",
                  "1979",
                  "1",
                  "3",
                  "3",
                  "992.6",
                  "False"
                ],
                [
                  "3",
                  "1",
                  "-16.344",
                  "48.078",
                  "1979",
                  "1",
                  "3",
                  "4",
                  "991.93",
                  "False"
                ],
                [
                  "4",
                  "1",
                  "-15.679",
                  "48.031",
                  "1979",
                  "1",
                  "3",
                  "5",
                  "990.32",
                  "False"
                ]
              ],
              "shape": {
                "columns": 9,
                "rows": 5
              }
            },
            "text/html": [
              "<div>\n",
              "<style scoped>\n",
              "    .dataframe tbody tr th:only-of-type {\n",
              "        vertical-align: middle;\n",
              "    }\n",
              "\n",
              "    .dataframe tbody tr th {\n",
              "        vertical-align: top;\n",
              "    }\n",
              "\n",
              "    .dataframe thead th {\n",
              "        text-align: right;\n",
              "    }\n",
              "</style>\n",
              "<table border=\"1\" class=\"dataframe\">\n",
              "  <thead>\n",
              "    <tr style=\"text-align: right;\">\n",
              "      <th></th>\n",
              "      <th>id</th>\n",
              "      <th>lon</th>\n",
              "      <th>lat</th>\n",
              "      <th>year</th>\n",
              "      <th>month</th>\n",
              "      <th>day</th>\n",
              "      <th>time</th>\n",
              "      <th>hPa</th>\n",
              "      <th>Medcrosser</th>\n",
              "    </tr>\n",
              "  </thead>\n",
              "  <tbody>\n",
              "    <tr>\n",
              "      <th>0</th>\n",
              "      <td>1</td>\n",
              "      <td>-17.750</td>\n",
              "      <td>48.120</td>\n",
              "      <td>1979</td>\n",
              "      <td>1</td>\n",
              "      <td>3</td>\n",
              "      <td>1</td>\n",
              "      <td>995.45</td>\n",
              "      <td>False</td>\n",
              "    </tr>\n",
              "    <tr>\n",
              "      <th>1</th>\n",
              "      <td>1</td>\n",
              "      <td>-17.447</td>\n",
              "      <td>48.163</td>\n",
              "      <td>1979</td>\n",
              "      <td>1</td>\n",
              "      <td>3</td>\n",
              "      <td>2</td>\n",
              "      <td>993.78</td>\n",
              "      <td>False</td>\n",
              "    </tr>\n",
              "    <tr>\n",
              "      <th>2</th>\n",
              "      <td>1</td>\n",
              "      <td>-16.979</td>\n",
              "      <td>48.143</td>\n",
              "      <td>1979</td>\n",
              "      <td>1</td>\n",
              "      <td>3</td>\n",
              "      <td>3</td>\n",
              "      <td>992.60</td>\n",
              "      <td>False</td>\n",
              "    </tr>\n",
              "    <tr>\n",
              "      <th>3</th>\n",
              "      <td>1</td>\n",
              "      <td>-16.344</td>\n",
              "      <td>48.078</td>\n",
              "      <td>1979</td>\n",
              "      <td>1</td>\n",
              "      <td>3</td>\n",
              "      <td>4</td>\n",
              "      <td>991.93</td>\n",
              "      <td>False</td>\n",
              "    </tr>\n",
              "    <tr>\n",
              "      <th>4</th>\n",
              "      <td>1</td>\n",
              "      <td>-15.679</td>\n",
              "      <td>48.031</td>\n",
              "      <td>1979</td>\n",
              "      <td>1</td>\n",
              "      <td>3</td>\n",
              "      <td>5</td>\n",
              "      <td>990.32</td>\n",
              "      <td>False</td>\n",
              "    </tr>\n",
              "  </tbody>\n",
              "</table>\n",
              "</div>"
            ],
            "text/plain": [
              "   id     lon     lat  year  month  day  time     hPa  Medcrosser\n",
              "0   1 -17.750  48.120  1979      1    3     1  995.45       False\n",
              "1   1 -17.447  48.163  1979      1    3     2  993.78       False\n",
              "2   1 -16.979  48.143  1979      1    3     3  992.60       False\n",
              "3   1 -16.344  48.078  1979      1    3     4  991.93       False\n",
              "4   1 -15.679  48.031  1979      1    3     5  990.32       False"
            ]
          },
          "execution_count": 24,
          "metadata": {},
          "output_type": "execute_result"
        }
      ],
      "source": [
        "df_tracks_infoMedcrossers.head()"
      ]
    },
    {
      "cell_type": "code",
      "execution_count": 26,
      "id": "90c3bcbf-2754-446b-9761-55ffdd11d6cf",
      "metadata": {},
      "outputs": [
        {
          "data": {
            "application/vnd.microsoft.datawrangler.viewer.v0+json": {
              "columns": [
                {
                  "name": "index",
                  "rawType": "int64",
                  "type": "integer"
                },
                {
                  "name": "id",
                  "rawType": "int64",
                  "type": "integer"
                },
                {
                  "name": "lon",
                  "rawType": "float64",
                  "type": "float"
                },
                {
                  "name": "lat",
                  "rawType": "float64",
                  "type": "float"
                },
                {
                  "name": "year",
                  "rawType": "int64",
                  "type": "integer"
                },
                {
                  "name": "month",
                  "rawType": "int64",
                  "type": "integer"
                },
                {
                  "name": "day",
                  "rawType": "int64",
                  "type": "integer"
                },
                {
                  "name": "time",
                  "rawType": "int64",
                  "type": "integer"
                },
                {
                  "name": "hPa",
                  "rawType": "float64",
                  "type": "float"
                }
              ],
              "ref": "72ad1a11-a1cc-42b7-908d-ba131d47fbe3",
              "rows": [
                [
                  "229",
                  "4",
                  "0.96",
                  "40.7",
                  "1979",
                  "1",
                  "8",
                  "18",
                  "1016.93"
                ],
                [
                  "230",
                  "4",
                  "1.08",
                  "40.761",
                  "1979",
                  "1",
                  "8",
                  "19",
                  "1016.93"
                ],
                [
                  "231",
                  "4",
                  "1.3",
                  "40.746",
                  "1979",
                  "1",
                  "8",
                  "20",
                  "1016.64"
                ],
                [
                  "232",
                  "4",
                  "1.624",
                  "40.699",
                  "1979",
                  "1",
                  "8",
                  "21",
                  "1016.35"
                ],
                [
                  "233",
                  "4",
                  "1.986",
                  "40.693",
                  "1979",
                  "1",
                  "8",
                  "22",
                  "1015.86"
                ]
              ],
              "shape": {
                "columns": 8,
                "rows": 5
              }
            },
            "text/html": [
              "<div>\n",
              "<style scoped>\n",
              "    .dataframe tbody tr th:only-of-type {\n",
              "        vertical-align: middle;\n",
              "    }\n",
              "\n",
              "    .dataframe tbody tr th {\n",
              "        vertical-align: top;\n",
              "    }\n",
              "\n",
              "    .dataframe thead th {\n",
              "        text-align: right;\n",
              "    }\n",
              "</style>\n",
              "<table border=\"1\" class=\"dataframe\">\n",
              "  <thead>\n",
              "    <tr style=\"text-align: right;\">\n",
              "      <th></th>\n",
              "      <th>id</th>\n",
              "      <th>lon</th>\n",
              "      <th>lat</th>\n",
              "      <th>year</th>\n",
              "      <th>month</th>\n",
              "      <th>day</th>\n",
              "      <th>time</th>\n",
              "      <th>hPa</th>\n",
              "    </tr>\n",
              "  </thead>\n",
              "  <tbody>\n",
              "    <tr>\n",
              "      <th>229</th>\n",
              "      <td>4</td>\n",
              "      <td>0.960</td>\n",
              "      <td>40.700</td>\n",
              "      <td>1979</td>\n",
              "      <td>1</td>\n",
              "      <td>8</td>\n",
              "      <td>18</td>\n",
              "      <td>1016.93</td>\n",
              "    </tr>\n",
              "    <tr>\n",
              "      <th>230</th>\n",
              "      <td>4</td>\n",
              "      <td>1.080</td>\n",
              "      <td>40.761</td>\n",
              "      <td>1979</td>\n",
              "      <td>1</td>\n",
              "      <td>8</td>\n",
              "      <td>19</td>\n",
              "      <td>1016.93</td>\n",
              "    </tr>\n",
              "    <tr>\n",
              "      <th>231</th>\n",
              "      <td>4</td>\n",
              "      <td>1.300</td>\n",
              "      <td>40.746</td>\n",
              "      <td>1979</td>\n",
              "      <td>1</td>\n",
              "      <td>8</td>\n",
              "      <td>20</td>\n",
              "      <td>1016.64</td>\n",
              "    </tr>\n",
              "    <tr>\n",
              "      <th>232</th>\n",
              "      <td>4</td>\n",
              "      <td>1.624</td>\n",
              "      <td>40.699</td>\n",
              "      <td>1979</td>\n",
              "      <td>1</td>\n",
              "      <td>8</td>\n",
              "      <td>21</td>\n",
              "      <td>1016.35</td>\n",
              "    </tr>\n",
              "    <tr>\n",
              "      <th>233</th>\n",
              "      <td>4</td>\n",
              "      <td>1.986</td>\n",
              "      <td>40.693</td>\n",
              "      <td>1979</td>\n",
              "      <td>1</td>\n",
              "      <td>8</td>\n",
              "      <td>22</td>\n",
              "      <td>1015.86</td>\n",
              "    </tr>\n",
              "  </tbody>\n",
              "</table>\n",
              "</div>"
            ],
            "text/plain": [
              "     id    lon     lat  year  month  day  time      hPa\n",
              "229   4  0.960  40.700  1979      1    8    18  1016.93\n",
              "230   4  1.080  40.761  1979      1    8    19  1016.93\n",
              "231   4  1.300  40.746  1979      1    8    20  1016.64\n",
              "232   4  1.624  40.699  1979      1    8    21  1016.35\n",
              "233   4  1.986  40.693  1979      1    8    22  1015.86"
            ]
          },
          "execution_count": 26,
          "metadata": {},
          "output_type": "execute_result"
        }
      ],
      "source": [
        "df_tracks_onlyMedcrossers.head()"
      ]
    },
    {
      "cell_type": "code",
      "execution_count": null,
      "id": "b010294b",
      "metadata": {},
      "outputs": [],
      "source": []
    }
  ],
  "metadata": {
    "kernelspec": {
      "display_name": "myenv",
      "language": "python",
      "name": "python3"
    },
    "language_info": {
      "codemirror_mode": {
        "name": "ipython",
        "version": 3
      },
      "file_extension": ".py",
      "mimetype": "text/x-python",
      "name": "python",
      "nbconvert_exporter": "python",
      "pygments_lexer": "ipython3",
      "version": "3.10.6"
    }
  },
  "nbformat": 4,
  "nbformat_minor": 5
}
